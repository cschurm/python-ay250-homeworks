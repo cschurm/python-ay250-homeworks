{
 "cells": [
  {
   "cell_type": "code",
   "execution_count": null,
   "metadata": {},
   "outputs": [],
   "source": [
    "import smtplib #initialize email\n",
    "# sign into gmail\n",
    "gmail_user = '' #sorry, to grade this you're gonna have to use your own!  \n",
    "gmail_password = ''\n",
    "# open smtp server\n",
    "try:  \n",
    "    server = smtplib.SMTP('smtp.gmail.com', 587)\n",
    "    server.ehlo()\n",
    "    server.starttls()\n",
    "except:  \n",
    "    print 'Something went wrong...'\n",
    "\n",
    "# login to email\n",
    "try:  \n",
    "    server = smtplib.SMTP_SSL('smtp.gmail.com', 465)\n",
    "    server.ehlo()\n",
    "    server.login(gmail_user, gmail_password)\n",
    "except:  \n",
    "    print 'Something went wrong...'\n",
    "\n",
    "#construct email text\n",
    "sent_from = gmail_user  \n",
    "to = ['cschurman125@gmail.com']   \n",
    "\n",
    "subject = words[words.index(\"subject\")+1] #extracts the subject line, this method only works on single words following \"subject\n",
    "body = words[words.index(\"body\")+1] #extracts the body word, this method only works on single words following \"body\"\n",
    "\n",
    "email_text = \"\"\"\\  \n",
    "From: %s  \n",
    "To: %s  \n",
    "Subject: %s\n",
    "\n",
    "%s\n",
    "\"\"\" % (sent_from, \", \".join(to), subject, body)\n",
    "\n",
    "try:  \n",
    "    server = smtplib.SMTP_SSL('smtp.gmail.com', 465)\n",
    "    server.ehlo()\n",
    "    server.login(gmail_user, gmail_password)\n",
    "    server.sendmail(sent_from, to, email_text)\n",
    "    server.close()\n",
    "\n",
    "    print 'Email sent!'\n",
    "except:  \n",
    "    print 'Something went wrong...'\n",
    "\n"
   ]
  }
 ],
 "metadata": {
  "kernelspec": {
   "display_name": "Python 3",
   "language": "python",
   "name": "python3"
  },
  "language_info": {
   "codemirror_mode": {
    "name": "ipython",
    "version": 3
   },
   "file_extension": ".py",
   "mimetype": "text/x-python",
   "name": "python",
   "nbconvert_exporter": "python",
   "pygments_lexer": "ipython3",
   "version": "3.6.4"
  }
 },
 "nbformat": 4,
 "nbformat_minor": 2
}
