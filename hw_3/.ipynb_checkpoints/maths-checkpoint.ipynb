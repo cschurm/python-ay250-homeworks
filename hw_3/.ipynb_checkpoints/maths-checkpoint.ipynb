{
 "cells": [
  {
   "cell_type": "code",
   "execution_count": null,
   "metadata": {},
   "outputs": [],
   "source": [
    "#code for maths.py\n",
    "from urllib import urlencode\n",
    "words = command.split()\n",
    "the_calculation = ' '.join(words[2:])\n",
    "words = command.split()\n",
    "\n",
    "url_values = urlencode(query)\n",
    "q = '+'.join(the_calculation.split())\n",
    "url = 'https://www.google.com/search?q=' + q + '&ie=utf-8&oe=utf-8'\n",
    "req = requests.get(url)\n",
    "#print(req.text)\n",
    "soup = BeautifulSoup(req.text, \"lxml\")\n",
    "print(list(x.get_text() for x in soup.find_all(\"h2\", class_=\"r\")))"
   ]
  }
 ],
 "metadata": {
  "kernelspec": {
   "display_name": "Python 2",
   "language": "python",
   "name": "python2"
  },
  "language_info": {
   "codemirror_mode": {
    "name": "ipython",
    "version": 2
   },
   "file_extension": ".py",
   "mimetype": "text/x-python",
   "name": "python",
   "nbconvert_exporter": "python",
   "pygments_lexer": "ipython2",
   "version": "2.7.14"
  }
 },
 "nbformat": 4,
 "nbformat_minor": 2
}
