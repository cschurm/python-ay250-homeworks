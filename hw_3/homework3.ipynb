{
 "cells": [
  {
   "cell_type": "markdown",
   "metadata": {},
   "source": [
    "# Interaction with the World Homework (#3)\n",
    "Python Computing for Data Science (c) J Bloom, UC Berkeley 2018\n",
    "\n",
    "Due Tuesday 2pm, Feb 20, 2018"
   ]
  },
  {
   "cell_type": "markdown",
   "metadata": {},
   "source": [
    "# 1) Monty: The Python Siri\n",
    "\n",
    "Let's make a Siri-like program (call it Monty!) with the following properties:\n",
    "   - record your voice command\n",
    "   - use a webservice to parse that sound file into text\n",
    "   - based on what the text, take three different types of actions:\n",
    "       - send an email to yourself\n",
    "       - do some math\n",
    "       - tell a joke\n",
    "\n",
    "So for example, if you say \"Monty: email me with subject hello and body goodbye\", it will email you with the appropriate subject and body. If you say \"Monty: tell me a joke\" then it will go to the web and find a joke and print it for you. If you say, \"Monty: calculate two times three\" it should response with printing the number 6.\n",
    "\n",
    "Hint: you can use speed-to-text apps like Houndify (or, e.g., Google Speech https://cloud.google.com/speech/) to return the text (but not do the actions). You'll need to sign up for a free API and then follow documentation instructions for using the service within Python. "
   ]
  },
  {
   "cell_type": "code",
   "execution_count": 220,
   "metadata": {},
   "outputs": [
    {
     "name": "stdout",
     "output_type": "stream",
     "text": [
      "* done recording\n"
     ]
    }
   ],
   "source": [
    "#Record Audio\n",
    "import pyaudio\n",
    "chunk = 1024\n",
    "FORMAT = pyaudio.paInt32\n",
    "CHANNELS = 1\n",
    "RATE = 8000\n",
    "RECORD_SECONDS = 5\n",
    "WAVE_OUTPUT_FILENAME = \"hw_voice.wav\"\n",
    "p = pyaudio.PyAudio()\n",
    "stream = p.open(format = FORMAT,\n",
    "    channels = CHANNELS,\n",
    "    rate = RATE,\n",
    "    input = True,\n",
    "    frames_per_buffer = chunk)\n",
    "all = []\n",
    "for i in range(0, int(RATE / chunk * RECORD_SECONDS)):\n",
    "    data = stream.read(chunk)\n",
    "    all.append(data)\n",
    "print(\"* done recording\")\n",
    "stream.close()\n",
    "p.terminate()"
   ]
  },
  {
   "cell_type": "code",
   "execution_count": 221,
   "metadata": {},
   "outputs": [],
   "source": [
    "#Generate the .wav file for recording\n",
    "import wave\n",
    "data = b\"\".join(all)\n",
    "wf = wave.open(WAVE_OUTPUT_FILENAME, \"wb\")\n",
    "wf.setnchannels(CHANNELS)\n",
    "wf.setsampwidth(p.get_sample_size(FORMAT))\n",
    "wf.setframerate(RATE)\n",
    "wf.writeframes(data)\n",
    "wf.close()"
   ]
  },
  {
   "cell_type": "code",
   "execution_count": 222,
   "metadata": {},
   "outputs": [],
   "source": [
    "#convert to 16 bit .wav file to run on Houndify\n",
    "audio = wave.open('hw_voice.wav')\n",
    "import soundfile\n",
    "\n",
    "data, samplerate = soundfile.read('hw_voice.wav')\n",
    "soundfile.write('new.wav', data, samplerate, subtype='PCM_16')"
   ]
  },
  {
   "cell_type": "code",
   "execution_count": 223,
   "metadata": {},
   "outputs": [],
   "source": [
    "#send generated audio file to houndify\n",
    "import houndify\n",
    "\n",
    "clientId = \"KMRiKZtXeXONeWV6V5vFpQ==\"\n",
    "clientKey = \"81Tun8idzWqKerzca73ztFbgZ_88kENvOiweyb3nZeFDdEO3Sc0NvnlxkF-xs1JVz8Lewlwz_eCaEsPx3gAflg==\"\n",
    "userId = \"test_user\"\n",
    "client = houndify.StreamingHoundClient(clientId, clientKey, userId, sampleRate=8000)\n",
    "client = houndify.TextHoundClient(clientId, clientKey, userId)\n",
    "CLIENT_ID = 'KMRiKZtXeXONeWV6V5vFpQ=='\n",
    "CLIENT_KEY = '81Tun8idzWqKerzca73ztFbgZ_88kENvOiweyb3nZeFDdEO3Sc0NvnlxkF-xs1JVz8Lewlwz_eCaEsPx3gAflg=='\n",
    "\n",
    "\n",
    "result = ! ./sample_wave.py 'KMRiKZtXeXONeWV6V5vFpQ==' '81Tun8idzWqKerzca73ztFbgZ_88kENvOiweyb3nZeFDdEO3Sc0NvnlxkF-xs1JVz8Lewlwz_eCaEsPx3gAflg==' new.wav\n",
    "command = result[len(result)-2] #extract the finished command assembled by houndify\n",
    "words = command.split() #parse sentence into a list obj. of words, will use later\n"
   ]
  },
  {
   "cell_type": "code",
   "execution_count": 225,
   "metadata": {},
   "outputs": [
    {
     "name": "stdout",
     "output_type": "stream",
     "text": [
      " Did you hear about the vampire bicycle that went round biting people's arms off? A: It was a vicious cycle. \n"
     ]
    }
   ],
   "source": [
    "# check what the command is and print out Monty's reply below this cell\n",
    "if 'email' in command:\n",
    "    %run -i 'email_code.py'\n",
    "if 'joke' in command:\n",
    "    %run -i 'jokes.py'\n",
    "else:\n",
    "    %run -i 'maths.py'\n",
    "    \n",
    "    #Monty's replu will be here: "
   ]
  },
  {
   "cell_type": "code",
   "execution_count": 36,
   "metadata": {},
   "outputs": [
    {
     "name": "stdout",
     "output_type": "stream",
     "text": [
      "Email sent!\n"
     ]
    }
   ],
   "source": [
    "#Code for 'email_code.py'\n",
    "import smtplib #initialize email\n",
    "# sign into gmail\n",
    "gmail_user = 'cschurman125@gmail.com' #sorry, to grade this you're gonna have to use your own!  \n",
    "gmail_password = 'marimbaluver'\n",
    "# open smtp server\n",
    "try:  \n",
    "    server = smtplib.SMTP('smtp.gmail.com', 587)\n",
    "    server.ehlo()\n",
    "    server.starttls()\n",
    "except:  \n",
    "    print 'Something went wrong...'\n",
    "\n",
    "# login to email\n",
    "try:  \n",
    "    server = smtplib.SMTP_SSL('smtp.gmail.com', 465)\n",
    "    server.ehlo()\n",
    "    server.login(gmail_user, gmail_password)\n",
    "except:  \n",
    "    print 'Something went wrong...'\n",
    "\n",
    "#construct email text\n",
    "sent_from = gmail_user  \n",
    "to = ['']  # fill in desired email here \n",
    "\n",
    "subject = words[words.index(\"subject\")+1] #extracts the subject line, this method only works on single words following \"subject\n",
    "body = words[words.index(\"body\")+1] #extracts the body word, this method only works on single words following \"body\"\n",
    "\n",
    "email_text = \"\"\"\\  \n",
    "From: %s  \n",
    "To: %s  \n",
    "Subject: %s\n",
    "\n",
    "%s\n",
    "\"\"\" % (sent_from, \", \".join(to), subject, body)\n",
    "\n",
    "try:  \n",
    "    server = smtplib.SMTP_SSL('smtp.gmail.com', 465)\n",
    "    server.ehlo()\n",
    "    server.login(gmail_user, gmail_password)\n",
    "    server.sendmail(sent_from, to, email_text)\n",
    "    server.close()\n",
    "\n",
    "    print 'Email sent!'\n",
    "except:  \n",
    "    print 'Something went wrong...'\n"
   ]
  },
  {
   "cell_type": "code",
   "execution_count": 58,
   "metadata": {},
   "outputs": [
    {
     "name": "stdout",
     "output_type": "stream",
     "text": [
      " What do you call a belt with a watch on it? A: A waist of time \n"
     ]
    }
   ],
   "source": [
    "#code for jokes.py\n",
    "Jokes = open('Jokes.txt') #open joke library\n",
    "#next few lines format the .txt file from the interwebs to printable one liners\n",
    "jokes = Jokes.readlines()[0] \n",
    "one_liners = jokes.split('Q:')\n",
    "#select random joke and return it\n",
    "from random import randint\n",
    "randChoice = randint(0, len(one_liners)-1)\n",
    "joke = one_liners[randChoice]\n",
    "print(joke)"
   ]
  },
  {
   "cell_type": "code",
   "execution_count": 217,
   "metadata": {},
   "outputs": [
    {
     "name": "stdout",
     "output_type": "stream",
     "text": [
      "[u'(3 * 4) - 1 = 11']\n"
     ]
    }
   ],
   "source": [
    "#code for maths.py\n",
    "import requests\n",
    "from bs4 import BeautifulSoup\n",
    "\n",
    "from urllib import urlencode\n",
    "words = command.split()\n",
    "the_calculation = ' '.join(words[2:])\n",
    "words = command.split()\n",
    "\n",
    "#url_values = urlencode(query)\n",
    "q = '+'.join(the_calculation.split())\n",
    "url = 'https://www.google.com/search?q=' + q + '&ie=utf-8&oe=utf-8'\n",
    "req = requests.get(url)\n",
    "#print(req.text)\n",
    "soup = BeautifulSoup(req.text, \"lxml\")\n",
    "print(list(x.get_text() for x in soup.find_all(\"h2\", class_=\"r\")))"
   ]
  },
  {
   "cell_type": "markdown",
   "metadata": {},
   "source": [
    "# 2) Write a program that identifies musical notes from sound (AIFF) files. \n",
    "\n",
    "  - Run it on the supplied sound files (12) and report your program’s results. \n",
    "  - Use the labeled sounds (4) to make sure it works correctly. The provided sound files contain 1-3 simultaneous notes from different organs.\n",
    "  - Save copies of any example plots to illustrate how your program works.\n",
    "  \n",
    "  https://piazza.com/berkeley/spring2018/ay250class13410/resources -> Homeworks -> hw3_sound_files.zip"
   ]
  },
  {
   "cell_type": "markdown",
   "metadata": {},
   "source": [
    "Hints: You’ll want to decompose the sound into a frequency power spectrum. Use a Fast Fourier Transform. Be care about “unpacking” the string hexcode into python data structures. The sound files use 32 bit data. Play around with what happens when you convert the string data to other integer sizes, or signed vs unsigned integers. Also, beware of harmonics."
   ]
  },
  {
   "cell_type": "code",
   "execution_count": 271,
   "metadata": {},
   "outputs": [],
   "source": [
    "#import and extract\n",
    "%matplotlib inline\n",
    "import aifc\n",
    "from scipy.fftpack import fft2\n",
    "import numpy as np\n",
    "import pyaudio\n",
    "import wave\n",
    "import matplotlib.pyplot as plt\n",
    "from scipy import *\n",
    "\n",
    "fname='12.aif'\n",
    "# open file and extract needed params from the aif file\n",
    "q = aifc.open(fname)\n",
    "n = q.getnframes()\n",
    "sampFreq = q.getframerate()\n",
    "# convert the hexcode data to usable integer values\n",
    "x = aifc.open(fname).readframes(n)\n",
    "databytes=np.fromstring(x,np.short).byteswap()\n",
    "\n",
    "# split the sterodata and reorganize channels\n",
    "chn1=[]\n",
    "chn2=[]\n",
    "cnt1=0\n",
    "cnt2=1\n",
    "cnt3=2\n",
    "cnt4=3\n",
    "while cnt1 < len(databytes):\n",
    "    chn1.append(databytes[cnt1])\n",
    "    chn1.append(databytes[cnt2])\n",
    "    chn2.append(databytes[cnt3])\n",
    "    chn2.append(databytes[cnt4])\n",
    "    cnt1+=4\n",
    "    cnt2+=4\n",
    "    cnt3+=4\n",
    "    cnt4+=4\n"
   ]
  },
  {
   "cell_type": "code",
   "execution_count": 272,
   "metadata": {},
   "outputs": [
    {
     "data": {
      "text/plain": [
       "Text(0.5,1,u'Channel 2')"
      ]
     },
     "execution_count": 272,
     "metadata": {},
     "output_type": "execute_result"
    },
    {
     "data": {
      "image/png": "[encoded data removed]",
      "text/plain": [
       "<matplotlib.figure.Figure at 0x1c7dceeb10>"
      ]
     },
     "metadata": {},
     "output_type": "display_data"
    },
    {
     "data": {
      "image/png": "[encoded data removed]",
      "text/plain": [
       "<matplotlib.figure.Figure at 0x1cb3d4af50>"
      ]
     },
     "metadata": {},
     "output_type": "display_data"
    }
   ],
   "source": [
    "#Plot the Raw Sound File\n",
    "time = arange(size(chn1)) / float(sampFreq)\n",
    "fig = plt.figure(figsize=(7, 4.5))\n",
    "ax1 = fig.add_subplot(1,1,1)\n",
    "ax1.plot(time, chn1, color='r')\n",
    "ax1.set_ylabel('Amplitude')\n",
    "ax1.set_xlabel('Time (s)')\n",
    "ax1.set_title('Channel 1')\n",
    "\n",
    "fig2 = plt.figure(figsize=(7, 4.5))\n",
    "ax2 = fig2.add_subplot(1,1,1)\n",
    "ax2.plot(time, chn2, color='b')\n",
    "ax2.set_ylabel('Amplitude')\n",
    "ax2.set_xlabel('Time (s)')\n",
    "ax2.set_title('Channel 2')\n"
   ]
  },
  {
   "cell_type": "code",
   "execution_count": 273,
   "metadata": {},
   "outputs": [
    {
     "data": {
      "text/plain": [
       "Text(0,0.5,u'Power (dB)')"
      ]
     },
     "execution_count": 273,
     "metadata": {},
     "output_type": "execute_result"
    },
    {
     "data": {
      "image/png": "[encoded data removed]",
      "text/plain": [
       "<matplotlib.figure.Figure at 0x1cae5aaf10>"
      ]
     },
     "metadata": {},
     "output_type": "display_data"
    }
   ],
   "source": [
    "#Plot the Frequency Content\n",
    "n = len(chn1) \n",
    "p = fft(chn1) # take the fourier transform \n",
    "p = p / float(n) # scale by the number of points so that\n",
    "                 # the magnitude does not depend on the length \n",
    "                 # of the signal or on its sampling frequency  \n",
    "p = p**2  # square it to get the power\n",
    "\n",
    "nUniquePts = int(ceil((n+1)/2.0))\n",
    "p = p[0:nUniquePts] #cuts in half  bc FFT is symmetric\n",
    "p = abs(p) #removes imaginary portions\n",
    "\n",
    "\n",
    "# multiply by two (see technical document for details)\n",
    "# odd nfft excludes Nyquist point\n",
    "if n % 2 > 0: # we've got odd number of points fft\n",
    "    p[1:len(p)] = p[1:len(p)] * 2\n",
    "else:\n",
    "    p[1:len(p) -1] = p[1:len(p) - 1] * 2 # we've got even number of points fft\n",
    "\n",
    "freqArray = arange(0, nUniquePts, 1.0) * (sampFreq / float(n))\n",
    "fig = plt.figure(figsize=(7, 4.5))\n",
    "ax1 = fig.add_subplot(1,1,1)\n",
    "ax1.plot(freqArray/float(1000), 10*log10(p), color='r')\n",
    "ax1.set_xlabel('Frequency (kHz)')\n",
    "ax1.set_ylabel('Power (dB)')"
   ]
  },
  {
   "cell_type": "code",
   "execution_count": 274,
   "metadata": {},
   "outputs": [
    {
     "name": "stdout",
     "output_type": "stream",
     "text": [
      "22045.990685\n",
      "22045.9906612\n"
     ]
    }
   ],
   "source": [
    "#solve for the dominant frequency - the fundemental using autocorrelation and parabolic fitting\n",
    "\n",
    "from scipy.signal import blackmanharris, fftconvolve\n",
    "from matplotlib.mlab import find\n",
    "\n",
    "def parabolic(f, x):\n",
    "    \"\"\"Quadratic interpolation for estimating the true position of an\n",
    "    inter-sample maximum when nearby samples are known.\n",
    "   \n",
    "    f is a vector and x is an index for that vector.\n",
    "   \n",
    "    Returns (vx, vy), the coordinates of the vertex of a parabola that goes\n",
    "    through point x and its two neighbors.\n",
    "   \n",
    "    Example:\n",
    "    Defining a vector f with a local maximum at index 3 (= 6), find local\n",
    "    maximum if points 2, 3, and 4 actually defined a parabola.\n",
    "   \n",
    "    In [3]: f = [2, 3, 1, 6, 4, 2, 3, 1]\n",
    "   \n",
    "    In [4]: parabolic(f, argmax(f))\n",
    "    Out[4]: (3.2142857142857144, 6.1607142857142856)\n",
    "   \n",
    "    \"\"\"\n",
    "    xv = 1/2. * (f[x-1] - f[x+1]) / (f[x-1] - 2 * f[x] + f[x+1]) + x\n",
    "    yv = f[x] - 1/4. * (f[x-1] - f[x+1]) * (xv - x)\n",
    "    return (xv, yv)\n",
    "\n",
    "\n",
    "def parabolic_polyfit(f, x, n):\n",
    "    \"\"\"Use the built-in polyfit() function to find the peak of a parabola\n",
    "    \n",
    "    f is a vector and x is an index for that vector.\n",
    "    \n",
    "    n is the number of samples of the curve used to fit the parabola.\n",
    "\n",
    "    \"\"\"    \n",
    "    a, b, c = polyfit(arange(x-n//2, x+n//2+1), f[x-n//2:x+n//2+1], 2)\n",
    "    xv = -0.5 * b/a\n",
    "    yv = a * xv**2 + b * xv + c\n",
    "    return (xv, yv)\n",
    "\n",
    "\n",
    "def freq_from_autocorr(sig, fs):\n",
    "    \"\"\"\n",
    "    Estimate frequency using autocorrelation\n",
    "    \"\"\"\n",
    "    # Calculate autocorrelation and throw away the negative lags\n",
    "    corr = fftconvolve(sig, sig[::-1], mode='full')\n",
    "    corr = corr[len(corr)//2:]\n",
    "\n",
    "    # Find the first low point\n",
    "    d = diff(corr)\n",
    "    start = find(d > 0)[0]\n",
    "\n",
    "    # Find the next peak after the low point (other than 0 lag).  This bit is\n",
    "    # not reliable for long signals, due to the desired peak occurring between\n",
    "    # samples, and other peaks appearing higher.\n",
    "    \n",
    "    peak = argmax(corr[start:]) + start\n",
    "    px, py = parabolic(corr, peak)\n",
    "\n",
    "    return fs / px\n",
    "\n",
    "frequency = freq_from_autocorr(chn1, sampFreq)\n",
    "frequency2 = freq_from_autocorr(chn2, sampFreq)\n",
    "print(frequency)\n",
    "print(frequency2)\n"
   ]
  },
  {
   "cell_type": "markdown",
   "metadata": {},
   "source": [
    "For the sound files, this is what the program returns:\n",
    "\n",
    "1.aif - 22076.5473222 Hz *This is likely because the algorithm has trouble identifying multiple pitches at once*\n",
    "\n",
    "2.aif - 174.999127424 Hz\n",
    "\n",
    "3.aif - 440.984155535 Hz\n",
    "\n",
    "4.aif - 87.1541536224 Hz \n",
    "\n",
    "5.aif - 22084.6395906 Hz *This is likely because the algorithm has trouble identifying multiple pitches at once. Also, about half way through there is a change in the harmony (notes played) that likely does not agree with the alogrithm used above.*\n",
    "\n",
    "6.aif - 524.997162349 Hz\n",
    "\n",
    "7.aif - 293.960487339 Hz\n",
    "\n",
    "8.aif - 349.997544405 Hz\n",
    "\n",
    "9.aif - 195.135263863 Hz\n",
    "\n",
    "10.aif - 22119.7266261 *Now ya'll are just being mean. The lower pitch oscillates note values throughout the sound bite and you put a higher pitch on top of it all???*\n",
    "\n",
    "11.aif - 82.2763869043 Hz\n",
    "\n",
    "12.aif - 22045.990685 *Ya'll love yourselves some disonance don't you...*\n"
   ]
  }
 ],
 "metadata": {
  "kernelspec": {
   "display_name": "Python 2",
   "language": "python",
   "name": "python2"
  },
  "language_info": {
   "codemirror_mode": {
    "name": "ipython",
    "version": 2
   },
   "file_extension": ".py",
   "mimetype": "text/x-python",
   "name": "python",
   "nbconvert_exporter": "python",
   "pygments_lexer": "ipython2",
   "version": "2.7.14"
  }
 },
 "nbformat": 4,
 "nbformat_minor": 1
}
