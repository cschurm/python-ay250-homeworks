{
 "cells": [
  {
   "cell_type": "code",
   "execution_count": null,
   "metadata": {
    "scrolled": false
   },
   "outputs": [],
   "source": [
    "#Problem 1\n",
    "# import packages\n",
    "import numpy as np\n",
    "import pandas as pd\n",
    "import imageio\n",
    "import matplotlib\n",
    "import glob\n",
    "import scipy.ndimage.interpolation as interp\n",
    "import scipy.signal as signal\n",
    "from PIL import Image\n",
    "import matplotlib.pylab as plt"
   ]
  },
  {
   "cell_type": "code",
   "execution_count": null,
   "metadata": {
    "collapsed": true
   },
   "outputs": [],
   "source": [
    "# read in the images to a 3D numpy array\n",
    "# the image data is the same in the first 3 channels\n",
    "# and it looks like the 4th channel is alpha but is unused\n",
    "# so I'm going to flatten them all to just the first channel\n",
    "\n",
    "zfactor = [3,3]\n",
    "\n",
    "imlist = glob.glob(\"Data 2/*.png\")\n",
    "numims = len(imlist)\n",
    "\n",
    "for ii in np.arange(0,numims):\n",
    "    print('working on image #', ii)\n",
    "    \n",
    "    impath = imlist[ii]\n",
    "    im = imio.imread(impath)\n",
    "    imarr = np.array(im)\n",
    "    \n",
    "    # flatten to just the first channel, then scale up\n",
    "    imarr = imarr[:,:,0]\n",
    "    zoomim = interp.zoom(imarr, zfactor)\n",
    "    \n",
    "    if ii==0:\n",
    "        # find out dimensions of a zoomed image and preallocate an array\n",
    "        sizelen = zoomim.shape[0]\n",
    "        fullstack = np.zeros((sizelen, sizelen, numims))\n",
    "    \n",
    "    # fill the array slice with the current image\n",
    "    fullstack[:,:,ii] = zoomim\n",
    "    \n",
    "    print('finished image #', ii)\n",
    "\n"
   ]
  },
  {
   "cell_type": "code",
   "execution_count": null,
   "metadata": {
    "collapsed": true
   },
   "outputs": [],
   "source": [
    "## testing output\n",
    "\n",
    "print(fullstack.shape)\n",
    "print(fullstack[500:510,500:510,0])\n",
    "\n",
    "imgarr = fullstack[:,:,0]\n",
    "plt.imshow(imgarr, cmap='gray')\n",
    "plt.show()"
   ]
  },
  {
   "cell_type": "code",
   "execution_count": null,
   "metadata": {
    "collapsed": true
   },
   "outputs": [],
   "source": [
    "# correlate and find the correlation peak for each image\n",
    "\n",
    "# converting to greyscale values (0-1) instead of 0-255 before convolving\n",
    "greystack = fullstack / 255.\n",
    "\n",
    "im0 = greystack[:,:,0]\n",
    "im0 -= np.mean(im0)\n",
    "\n",
    "# preallocate\n",
    "convstack = np.zeros(greystack.shape)\n",
    "maxvals = np.zeros(numims)\n",
    "maxinds = []\n",
    "\n",
    "for ii in np.arange(0,numims):\n",
    "#     print('working on image #', ii)\n",
    "    \n",
    "    im = greystack[:,:,ii]\n",
    "    im -= np.mean(im)\n",
    "    imconv = signal.fftconvolve(im0, im[::-1, ::-1], 'same')\n",
    "    \n",
    "    # find the maximum value and its location\n",
    "    maxii = np.argmax(imconv)\n",
    "    maxind = np.unravel_index(maxii, imconv.shape)\n",
    "    maxval = imconv[maxind]\n",
    "    \n",
    "    # store findings\n",
    "    convstack[:,:,ii] = imconv\n",
    "    maxinds.append(maxind)\n",
    "    maxvals[ii] = maxval\n",
    "    \n",
    "#     print('finished image #', ii)\n",
    "\n",
    "## test results\n",
    "print(imconv.shape)\n",
    "print(imconv)\n",
    "plt.imshow(imconv, cmap='gray')\n",
    "plt.show()\n",
    "\n",
    "print(np.mean(maxinds))"
   ]
  },
  {
   "cell_type": "code",
   "execution_count": null,
   "metadata": {
    "collapsed": true
   },
   "outputs": [],
   "source": [
    "# find the offsets of each frame with respect to the first frame. Report those offsets to 2 decimal places\n",
    "# offsets will be referenced to the first image\n",
    "center = maxinds[0]\n",
    "\n",
    "offsets = []\n",
    "for ii in np.arange(0,numims):\n",
    "    offx = maxinds[ii][0] - center[0]\n",
    "    offy = maxinds[ii][1] - center[1]\n",
    "    offsets.append((offx,offy))\n",
    "\n",
    "offsets"
   ]
  },
  {
   "cell_type": "code",
   "execution_count": null,
   "metadata": {
    "collapsed": true
   },
   "outputs": [],
   "source": [
    "# shifting each image by its offset\n",
    "\n",
    "shiftedstack = np.zeros(greystack.shape)\n",
    "for ii in np.arange(0,numims):\n",
    "    img = greystack[:,:,ii]\n",
    "    off = offsets[ii]\n",
    "    shifted = interp.shift(img, off)\n",
    "    shiftedstack[:,:,ii] = shifted\n",
    "\n",
    "# testing output\n",
    "off = offsets[5]\n",
    "test = shiftedstack[:,:,5]\n",
    "print(test.shape)\n",
    "print(test[500:510,500:510])\n",
    "plt.imshow(test, cmap='gray')\n",
    "plt.show()"
   ]
  },
  {
   "cell_type": "code",
   "execution_count": 1,
   "metadata": {},
   "outputs": [],
   "source": [
    "#Problem 2\n",
    "%matplotlib inline\n",
    "import numpy as np\n",
    "import matplotlib.pyplot as plt\n",
    "# we'll need some path manipulations later on\n",
    "import os"
   ]
  },
  {
   "cell_type": "code",
   "execution_count": 2,
   "metadata": {
    "collapsed": true
   },
   "outputs": [],
   "source": [
    "def audio(fname):\n",
    "    \"\"\"Provide a player widget for an audio file.\n",
    "    \n",
    "    Parameters\n",
    "    ==========\n",
    "    fname : string\n",
    "      Filename to be played.\n",
    "      \n",
    "    Warning\n",
    "    =======\n",
    "    \n",
    "    Browsers cache audio very aggressively. If you change an\n",
    "    audio file on disk and are trying to listen to the  new version, you \n",
    "    may want to \n",
    "    \"\"\"\n",
    "    from IPython.display import HTML, display\n",
    "    \n",
    "    # Find out file extension and deduce MIME type for audio format\n",
    "    ext = os.path.splitext(fname)[1].replace('.', '').lower()\n",
    "    mimetype = 'audio/' + ('mpeg' if ext == 'mp3' else ext)\n",
    "    \n",
    "    tpl = \"\"\"<p>{fname}:</p>\n",
    "    <audio controls>\n",
    "    <source src=\"files/{fname}\" type=\"{mimetype}\">\n",
    "\n",
    "Your browser does not support the Audio element; you can play \n",
    "<a href=\"files/{fname}\">this file</a> manually.\n",
    "</audio>\n",
    "\"\"\"\n",
    "    display(HTML(tpl.format(**locals())))\n",
    "    import pygame # <- this and follwoing lines included bc Audio was not working\n",
    "    pygame.init()\n",
    "    pygame.mixer.music.load(fname)\n",
    "    pygame.mixer.music.play()"
   ]
  },
  {
   "cell_type": "code",
   "execution_count": 3,
   "metadata": {
    "collapsed": true
   },
   "outputs": [],
   "source": [
    "def specgram_cbar(x, title=None, clim=(0, 80) ):\n",
    "    \"\"\"Plot spectrogram with a colorbar and range normalization.\n",
    "    \n",
    "    Call matplotlib's specgram function, with a custom figure size, \n",
    "    automatic colobar, title and custom color limits to ease \n",
    "    comparison across multiple figures.\n",
    "    \n",
    "    Parameters\n",
    "    ==========\n",
    "    x : array\n",
    "      One-dimensional array whose spectrogram should be plotted.\n",
    "      \n",
    "    title : string\n",
    "      Optional title for the figure.\n",
    "      \n",
    "    clim : 2-tuple\n",
    "      Range for the color limits plotted in the spectrogram.\n",
    "    \"\"\"\n",
    "    f = plt.figure(figsize=(10,3))\n",
    "    plt.specgram(x)\n",
    "    plt.colorbar()\n",
    "    plt.clim(*clim)\n",
    "    if title is not None:\n",
    "        plt.title(title)\n",
    "    plt.show()"
   ]
  },
  {
   "cell_type": "code",
   "execution_count": null,
   "metadata": {
    "scrolled": true
   },
   "outputs": [],
   "source": [
    "#Audio('voice.wav')  <- don't know how to link animation to playback?"
   ]
  },
  {
   "cell_type": "code",
   "execution_count": 58,
   "metadata": {},
   "outputs": [
    {
     "data": {
      "image/png": "[encoded data removed]",
      "text/plain": [
       "<matplotlib.figure.Figure at 0x1a146df6d0>"
      ]
     },
     "metadata": {},
     "output_type": "display_data"
    }
   ],
   "source": [
    "def compress_signal(x, fraction):\n",
    "    \"\"\"Compress an input signal by dropping a fraction of its spectrum.\n",
    "    Parameters\n",
    "    ==========\n",
    "    x : array\n",
    "      1-d real array to be compressed\n",
    "      \n",
    "    fraction : float\n",
    "      A number in the [0,1] range indicating which fraction of the spectrum\n",
    "      of x should be zeroed out (1 means zero out the entire signal).\n",
    "      \n",
    "    Returns\n",
    "    =======\n",
    "    x_approx : array\n",
    "      1-d real array reconstructed after having compressed the input.\n",
    "    \"\"\"\n",
    "\n",
    "    #import beginning data and calculate FFT\n",
    "    from scipy.fftpack import fft\n",
    "    from scipy.io import wavfile # get the api\n",
    "    fs, data = wavfile.read(x) # load the data\n",
    "    c = np.fft.rfft(data) # calculate fourier transform (complex numbers list)\n",
    "    c = c[1:]\n",
    "    c=abs(c) #remove the imaginary portions of c\n",
    "    #remove the fraction specified\n",
    "    c_max = max(c)\n",
    "    for i in range(len(c)):\n",
    "        if c[i] < fraction*c_max:\n",
    "            c[i] = 0\n",
    "    return c\n",
    "    \n",
    "c = compress_signal('voice.wav',0.2)\n",
    "d=range(len(c))\n",
    "plt.plot(d,c,'r') \n",
    "plt.show()   \n",
    "\n",
    "#plt.specgram(x, Fs=2)"
   ]
  },
  {
   "cell_type": "code",
   "execution_count": 25,
   "metadata": {},
   "outputs": [
    {
     "data": {
      "image/png": "[encoded data removed]",
      "text/plain": [
       "<matplotlib.figure.Figure at 0x1a14752090>"
      ]
     },
     "metadata": {},
     "output_type": "display_data"
    }
   ],
   "source": [
    "#for question 2.3: any signal (X) not loaded from a .wav file\n",
    "def compress_signal(x, fraction):\n",
    "    \"\"\"Compress an input signal by dropping a fraction of its spectrum.\n",
    "    \n",
    "    Parameters\n",
    "    ==========\n",
    "    x : array\n",
    "      1-d real array to be compressed\n",
    "      \n",
    "    fraction : float\n",
    "      A number in the [0,1] range indicating which fraction of the spectrum\n",
    "      of x should be zeroed out (1 means zero out the entire signal).\n",
    "      \n",
    "    Returns\n",
    "    =======\n",
    "    x_approx : array\n",
    "      1-d real array reconstructed after having compressed the input.\n",
    "    \"\"\"\n",
    "     #import beginning data and calculate FFT\n",
    "    from scipy.fftpack import fft\n",
    "    from scipy.io import wavfile # get the api \n",
    "    c = np.fft.rfft(x) # calculate fourier transform (complex numbers list)\n",
    "    c = c[1:]\n",
    "    c=abs(c) #remove the imaginary portions of c\n",
    "    #remove the fraction specified\n",
    "    c_max = max(c)\n",
    "    for i in range(len(c)):\n",
    "        if c[i] < fraction*c_max:\n",
    "            c[i] = 0\n",
    "    return c"
   ]
  },
  {
   "cell_type": "code",
   "execution_count": 56,
   "metadata": {
    "scrolled": true
   },
   "outputs": [
    {
     "data": {
      "text/plain": [
       "73728"
      ]
     },
     "execution_count": 56,
     "metadata": {},
     "output_type": "execute_result"
    }
   ],
   "source": [
    "import wave\n",
    "from wave import Wave_read\n",
    "voice = wave.open('voice.wav')\n",
    "n=Wave_read.getnframes(voice)\n",
    "# frequency = Wave_read.getframerate(voice)\n",
    "# width = Wave_read.getsampwidth(voice)\n",
    "# voice_dat=Wave_read.readframes(voice,n)\n",
    "n"
   ]
  },
  {
   "cell_type": "code",
   "execution_count": 73,
   "metadata": {},
   "outputs": [
    {
     "data": {
      "text/plain": [
       "<matplotlib.axes._subplots.AxesSubplot at 0x1c11b0c4d0>"
      ]
     },
     "execution_count": 73,
     "metadata": {},
     "output_type": "execute_result"
    },
    {
     "data": {
      "image/png": "[encoded data removed]",
      "text/plain": [
       "<matplotlib.figure.Figure at 0x101f00390>"
      ]
     },
     "metadata": {},
     "output_type": "display_data"
    }
   ],
   "source": [
    "#Problem 3\n",
    "#3.1 length of the year\n",
    "import pandas as pd\n",
    "import numpy as np\n",
    "hm = pd.read_csv('merged_data.csv')\n",
    "\n",
    "%matplotlib inline\n",
    "import matplotlib.pylab as plt\n",
    "hm['ice cream'].plot()\n",
    "hm['full moon'].plot()\n"
   ]
  },
  {
   "cell_type": "code",
   "execution_count": 94,
   "metadata": {},
   "outputs": [
    {
     "data": {
      "image/png": "[encoded data removed]",
      "text/plain": [
       "<matplotlib.figure.Figure at 0x1c115d4210>"
      ]
     },
     "metadata": {},
     "output_type": "display_data"
    },
    {
     "data": {
      "text/plain": [
       "43"
      ]
     },
     "execution_count": 94,
     "metadata": {},
     "output_type": "execute_result"
    }
   ],
   "source": [
    "y = hm['ice cream']\n",
    "x = hm.index.values\n",
    "f = np.linspace(1, 260, 260)\n",
    "normval = x.shape[0] #for nomalization\n",
    "pgram = signal.lombscargle(x, y, f)\n",
    "norm_plot = np.sqrt(4*(pgram/normval))\n",
    "\n",
    "#orig data plt\n",
    "plt.subplot(2, 1, 1)\n",
    "plt.plot(x, y, 'b+')\n",
    "#pwr spectra plt\n",
    "plt.subplot(2, 1, 2)\n",
    "plt.plot(f, norm_plot)\n",
    "plt.show()\n",
    "\n",
    "index_max = np.argmax(norm_plot)\n",
    "index_max #this is in weeks\n",
    "# fourier = np.fft.rfft(norm_plot)\n",
    "# fourier = abs(fourier)\n",
    "# widths = range(261)\n"
   ]
  },
  {
   "cell_type": "code",
   "execution_count": 106,
   "metadata": {},
   "outputs": [
    {
     "data": {
      "image/png": "[encoded data removed]",
      "text/plain": [
       "<matplotlib.figure.Figure at 0x1c1136d9d0>"
      ]
     },
     "metadata": {},
     "output_type": "display_data"
    }
   ],
   "source": [
    "#3.2 find the length of the lunar cycle\n",
    "y = hm['full moon']\n",
    "x = hm.index.values\n",
    "f = np.linspace(1, 10, 100000)\n",
    "normval = x.shape[0] #for nomalization\n",
    "pgram = signal.lombscargle(x, y, f)\n",
    "norm_plot = np.sqrt(4*(pgram/normval))\n",
    "\n",
    "#orig data plt\n",
    "plt.subplot(2, 1, 1)\n",
    "plt.plot(x, y, 'b+')\n",
    "#pwr spectra plt\n",
    "plt.subplot(2, 1, 2)\n",
    "plt.plot(f, norm_plot)\n",
    "plt.show()\n",
    "\n"
   ]
  },
  {
   "cell_type": "code",
   "execution_count": 113,
   "metadata": {},
   "outputs": [
    {
     "name": "stdout",
     "output_type": "stream",
     "text": [
      "58701.0\n"
     ]
    },
    {
     "data": {
      "text/plain": [
       "41.090700000000005"
      ]
     },
     "execution_count": 113,
     "metadata": {},
     "output_type": "execute_result"
    }
   ],
   "source": [
    "index_max = float(np.argmax(norm_plot))\n",
    "#10 weeks, divided 100k times\n",
    "print(index_max)\n",
    "week_peak = 10*(index_max/100000)\n",
    "days = week_peak*7\n",
    "days #ehhh 41 days is almost twice the period of the moon, but I'm not quite getting how the sampling freq thing works for lombscargle"
   ]
  },
  {
   "cell_type": "code",
   "execution_count": null,
   "metadata": {},
   "outputs": [],
   "source": []
  },
  {
   "cell_type": "code",
   "execution_count": null,
   "metadata": {},
   "outputs": [],
   "source": []
  }
 ],
 "metadata": {
  "kernelspec": {
   "display_name": "Python 2",
   "language": "python",
   "name": "python2"
  },
  "language_info": {
   "codemirror_mode": {
    "name": "ipython",
    "version": 2
   },
   "file_extension": ".py",
   "mimetype": "text/x-python",
   "name": "python",
   "nbconvert_exporter": "python",
   "pygments_lexer": "ipython2",
   "version": "2.7.14"
  }
 },
 "nbformat": 4,
 "nbformat_minor": 2
}
