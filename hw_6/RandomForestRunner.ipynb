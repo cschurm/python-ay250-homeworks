{
 "cells": [
  {
   "cell_type": "code",
   "execution_count": 12,
   "metadata": {},
   "outputs": [],
   "source": [
    "import pandas as pd\n",
    "import numpy as np\n",
    "from sklearn import model_selection, metrics, cross_validation, preprocessing\n",
    "from sklearn.ensemble import RandomForestClassifier\n"
   ]
  },
  {
   "cell_type": "markdown",
   "metadata": {},
   "source": [
    "## Import Data, Split Features from Categories, and Define Testing vs Trainging Sets"
   ]
  },
  {
   "cell_type": "code",
   "execution_count": 13,
   "metadata": {},
   "outputs": [
    {
     "name": "stdout",
     "output_type": "stream",
     "text": [
      "training size: 3734\n",
      "testing size: 500\n"
     ]
    }
   ],
   "source": [
    "#Import Data From Feature Processing\n",
    "data = pd.read_csv('category_vals', delimiter = '\\t',index_col=0)\n",
    "data = data.sample(frac=1).reset_index(drop=True) #Shuffle the rows of the data so that categories mix\n",
    "data = data.replace([np.inf, -np.inf], np.nan) #convert infinities to nan\n",
    "data = data.fillna(value=0) #remove NaNs from data set (set to 0)\n",
    "size = data.shape \n",
    "Y_pos = size[1]-1#will use later when extracting the category from the data frame. This is the last column of the data frame\n",
    "data_len = size[0]\n",
    "#features = list(data)[1:-1]\n",
    "    \n",
    "#split data into X (features) and Y (categories)\n",
    "X = data.iloc[:,1:-1] #removes the file name and the category from the features\n",
    "Y = data.iloc[:,Y_pos]\n",
    "X_scaled = preprocessing.scale(X)\n",
    "\n",
    "#Convert X & Y to array from df\n",
    "X = X_scaled\n",
    "Y = Y.as_matrix()\n",
    "\n",
    "# Reserve Last 500 as test, rest as training\n",
    "train = data_len-500\n",
    "#training set\n",
    "Xtr = X[:train]\n",
    "Ytr = Y[:train]\n",
    "print(\"training size: \" + str(len(Ytr)))\n",
    "# testing set\n",
    "Xte = X[train:]\n",
    "Yte = Y[train:]\n",
    "print(\"testing size: \" + str(len(Yte)))\n",
    "\n",
    "\n",
    "\n",
    "def round_sig(x, sig=2): #features extractor returns values with too much specificity for RandomForest, need to round w/out losing data (sort of like normalizing within only 1 column and not across all data rows)\n",
    "    return round(x, sig-int(floor(log10(abs(x))))-1)\n",
    "\n",
    "Xtr = np.around(Xtr, decimals=8)\n",
    "Xte = np.around(Xte, decimals=8)"
   ]
  },
  {
   "cell_type": "markdown",
   "metadata": {},
   "source": [
    "# Set up the Random Forest Classifier"
   ]
  },
  {
   "cell_type": "code",
   "execution_count": 14,
   "metadata": {
    "scrolled": true
   },
   "outputs": [],
   "source": [
    "# Create a classifier -instantiate classifier object\n",
    "classifier = RandomForestClassifier(n_estimators=50)\n",
    "# fit the classification model on training set\n",
    "classifier.fit(Xtr, Ytr)\n",
    "# make predictions for testing set\n",
    "pred_rf = classifier.predict(Xte) \n"
   ]
  },
  {
   "cell_type": "code",
   "execution_count": 15,
   "metadata": {},
   "outputs": [
    {
     "name": "stdout",
     "output_type": "stream",
     "text": [
      "True Class / Predicted class\n",
      "[['swan' 'conch' 'crab' 'octopus' 'penguin' 'horse' 'dog' 'airplanes'\n",
      "  'camel' 'raccoon']\n",
      " ['hummingbird' 'skunk' 'elk' 'horse' 'owl' 'horse' 'goat' 'airplanes'\n",
      "  'penguin' 'raccoon']]\n",
      "Zero-One Loss: 0.712\n",
      "Zero-One Score: 0.288\n"
     ]
    }
   ],
   "source": [
    "#Evaluate\n",
    "print(\"True Class / Predicted class\")\n",
    "print(np.vstack((Yte[0:10],pred_rf[0:10]))) # <- for just top 10\n",
    "#print(np.vstack((Yte[0:10],pred_rf[0:10]))'...') #<- for Full List\n",
    "\n",
    "# compute zero-one loss / score & confusion matrix\n",
    "rf_01 = metrics.zero_one_loss(Yte, pred_rf) # zero-one loss\n",
    "rf_01_score = metrics.accuracy_score(Yte, pred_rf) # zero-one score\n",
    "rf_confmat = metrics.confusion_matrix(Yte, pred_rf) # conf mat\n",
    "\n",
    "print(\"Zero-One Loss: \" + str(rf_01))\n",
    "print(\"Zero-One Score: \" + str(rf_01_score))\n",
    "#print(\"Confusion Matrix:\")\n",
    "#print(\"[i, j] is the # of objects truly in group i but predicted to be in group j\")\n",
    "#print(rf_confmat)"
   ]
  },
  {
   "cell_type": "code",
   "execution_count": null,
   "metadata": {},
   "outputs": [],
   "source": [
    "#My cl"
   ]
  }
 ],
 "metadata": {
  "kernelspec": {
   "display_name": "Python 3",
   "language": "python",
   "name": "python3"
  },
  "language_info": {
   "codemirror_mode": {
    "name": "ipython",
    "version": 3
   },
   "file_extension": ".py",
   "mimetype": "text/x-python",
   "name": "python",
   "nbconvert_exporter": "python",
   "pygments_lexer": "ipython3",
   "version": "3.6.4"
  }
 },
 "nbformat": 4,
 "nbformat_minor": 2
}
