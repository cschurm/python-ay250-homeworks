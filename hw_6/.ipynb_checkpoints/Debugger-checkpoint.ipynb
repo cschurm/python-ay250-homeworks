{
 "cells": [
  {
   "cell_type": "code",
   "execution_count": 27,
   "metadata": {},
   "outputs": [],
   "source": [
    "import numpy as np\n",
    "from scipy import stats\n",
    "from PIL import Image\n",
    "from skimage import color\n",
    "from skimage.util.dtype import dtype_range\n",
    "from skimage.util import img_as_ubyte\n",
    "from skimage.morphology import disk\n",
    "from skimage.filters.rank import gradient\n",
    "from skimage.filters import roberts, sobel, threshold_otsu\n",
    "from skimage.feature import corner_harris, corner_peaks, blob_log, blob_doh, blob_dog"
   ]
  },
  {
   "cell_type": "code",
   "execution_count": 14,
   "metadata": {},
   "outputs": [
    {
     "name": "stderr",
     "output_type": "stream",
     "text": [
      "/anaconda3/lib/python3.6/site-packages/skimage/util/dtype.py:122: UserWarning: Possible precision loss when converting from float64 to uint8\n",
      "  .format(dtypeobj_in, dtypeobj_out))\n"
     ]
    },
    {
     "ename": "ValueError",
     "evalue": "Inputs must not be empty.",
     "output_type": "error",
     "traceback": [
      "\u001b[0;31m---------------------------------------------------------------------------\u001b[0m",
      "\u001b[0;31mValueError\u001b[0m                                Traceback (most recent call last)",
      "\u001b[0;32m<ipython-input-14-d04c9bf14414>\u001b[0m in \u001b[0;36m<module>\u001b[0;34m()\u001b[0m\n\u001b[1;32m     44\u001b[0m \u001b[0;31m#Linear Fitting With Corners Detction (Linear Fit to detect corner locations, help determine shape orientation)\u001b[0m\u001b[0;34m\u001b[0m\u001b[0;34m\u001b[0m\u001b[0m\n\u001b[1;32m     45\u001b[0m \u001b[0mcoords\u001b[0m \u001b[0;34m=\u001b[0m \u001b[0mcorner_peaks\u001b[0m\u001b[0;34m(\u001b[0m\u001b[0mcorner_harris\u001b[0m\u001b[0;34m(\u001b[0m\u001b[0mimage_gray\u001b[0m\u001b[0;34m)\u001b[0m\u001b[0;34m,\u001b[0m \u001b[0mmin_distance\u001b[0m\u001b[0;34m=\u001b[0m\u001b[0;36m5\u001b[0m\u001b[0;34m)\u001b[0m\u001b[0;34m\u001b[0m\u001b[0m\n\u001b[0;32m---> 46\u001b[0;31m \u001b[0mlin_slope\u001b[0m\u001b[0;34m,\u001b[0m \u001b[0mlin_intercept\u001b[0m\u001b[0;34m,\u001b[0m \u001b[0mlin_r_value\u001b[0m\u001b[0;34m,\u001b[0m \u001b[0mlin_p_value\u001b[0m\u001b[0;34m,\u001b[0m \u001b[0mlin_std_err\u001b[0m \u001b[0;34m=\u001b[0m \u001b[0mstats\u001b[0m\u001b[0;34m.\u001b[0m\u001b[0mlinregress\u001b[0m\u001b[0;34m(\u001b[0m\u001b[0mcoords\u001b[0m\u001b[0;34m[\u001b[0m\u001b[0;34m:\u001b[0m\u001b[0;34m,\u001b[0m\u001b[0;36m0\u001b[0m\u001b[0;34m]\u001b[0m\u001b[0;34m,\u001b[0m\u001b[0mcoords\u001b[0m\u001b[0;34m[\u001b[0m\u001b[0;34m:\u001b[0m\u001b[0;34m,\u001b[0m\u001b[0;36m1\u001b[0m\u001b[0;34m]\u001b[0m\u001b[0;34m)\u001b[0m\u001b[0;34m\u001b[0m\u001b[0m\n\u001b[0m\u001b[1;32m     47\u001b[0m \u001b[0mlin_rsq_value\u001b[0m \u001b[0;34m=\u001b[0m \u001b[0mlin_r_value\u001b[0m\u001b[0;34m**\u001b[0m\u001b[0;36m2\u001b[0m\u001b[0;34m\u001b[0m\u001b[0m\n\u001b[1;32m     48\u001b[0m \u001b[0;34m\u001b[0m\u001b[0m\n",
      "\u001b[0;32m/anaconda3/lib/python3.6/site-packages/scipy/stats/_stats_mstats_common.py\u001b[0m in \u001b[0;36mlinregress\u001b[0;34m(x, y)\u001b[0m\n\u001b[1;32m     84\u001b[0m \u001b[0;34m\u001b[0m\u001b[0m\n\u001b[1;32m     85\u001b[0m     \u001b[0;32mif\u001b[0m \u001b[0mx\u001b[0m\u001b[0;34m.\u001b[0m\u001b[0msize\u001b[0m \u001b[0;34m==\u001b[0m \u001b[0;36m0\u001b[0m \u001b[0;32mor\u001b[0m \u001b[0my\u001b[0m\u001b[0;34m.\u001b[0m\u001b[0msize\u001b[0m \u001b[0;34m==\u001b[0m \u001b[0;36m0\u001b[0m\u001b[0;34m:\u001b[0m\u001b[0;34m\u001b[0m\u001b[0m\n\u001b[0;32m---> 86\u001b[0;31m         \u001b[0;32mraise\u001b[0m \u001b[0mValueError\u001b[0m\u001b[0;34m(\u001b[0m\u001b[0;34m\"Inputs must not be empty.\"\u001b[0m\u001b[0;34m)\u001b[0m\u001b[0;34m\u001b[0m\u001b[0m\n\u001b[0m\u001b[1;32m     87\u001b[0m \u001b[0;34m\u001b[0m\u001b[0m\n\u001b[1;32m     88\u001b[0m     \u001b[0mn\u001b[0m \u001b[0;34m=\u001b[0m \u001b[0mlen\u001b[0m\u001b[0;34m(\u001b[0m\u001b[0mx\u001b[0m\u001b[0;34m)\u001b[0m\u001b[0;34m\u001b[0m\u001b[0m\n",
      "\u001b[0;31mValueError\u001b[0m: Inputs must not be empty."
     ]
    }
   ],
   "source": [
    "#Feature Extraction Function\n",
    "def feature_extraction(path):\n",
    "    parts = path.split('/')\n",
    "    category = parts[5]\n",
    "    file_name = parts[6]\n",
    "    \n",
    "    #Read image\n",
    "    im = Image.open(path)\n",
    "    image = np.array(im)\n",
    "    image_gray = color.rgb2gray(image)\n",
    "\n",
    "    #Basic Feature Extraction\n",
    "    #Image Size\n",
    "    y = image.shape[0]\n",
    "    x = image.shape[1]\n",
    "\n",
    "    #Most Frequent Color (really go with 2nd most freq, many of the images will have white borders and make it the most common, which is not helpful)\n",
    "    pixels = im.getcolors(x * y)\n",
    "    most_frequent_pixel = pixels[1]\n",
    "    #Convert RGB Values to single unique number\n",
    "    if type(most_frequent_pixel) == 'tuple': #have to check because this fails on some images...?\n",
    "        most_freq_color = 65536*most_frequent_pixel[1][0] + 256*most_frequent_pixel[1][1] + most_frequent_pixel[1][2]\n",
    "    else:\n",
    "        most_freq_color = 'nan' #will clear later\n",
    "\n",
    "    #Avg Value per Color channel\n",
    "    if image.shape[2] == 3:\n",
    "        red_val = np.mean(image[:,:,0])\n",
    "        grn_val = np.mean(image[:,:,1])\n",
    "        blu_val = np.mean(image[:,:,2])\n",
    "    else:\n",
    "        red_val = 'nan'\n",
    "        grn_val = 'nan'\n",
    "        blu_val = 'nan'\n",
    "    \n",
    "    grey_val = np.mean(image_gray)\n",
    "\n",
    "    #Outsu Binary Score\n",
    "    thresh = threshold_otsu(image_gray)\n",
    "    binary = image_gray > thresh\n",
    "    binary_per = np.sum(binary)/(x*y) #since we'll be comparing images of different sizes, its more appropriate to use percent of image converted in the binary and not total binary score (# of black pixels)\n",
    "\n",
    "    #Sharpness and Sharpness Frequencies\n",
    "    selection_element = disk(5) # matrix of n pixels with a disk shape\n",
    "    sharpness = (gradient(image_gray, selection_element))\n",
    "    mean_sharp=np.mean(sharpness)\n",
    "    sharp = sharpness.flatten()\n",
    "    shrp = np.fft.fft(sharp)\n",
    "    freq = np.fft.fftfreq(shrp.size, d=1)\n",
    "    avg_sharp_freq = np.mean(freq)\n",
    "\n",
    "    #Edge Detection\n",
    "    edge_roberts = roberts(image_gray)\n",
    "    edge_sobel = sobel(image_gray)\n",
    "    roberts_score = np.sum(edge_roberts)/(x*y) #normalize to size of image\n",
    "    sobel_score = np.sum(edge_sobel)/(x*y)\n",
    "\n",
    "    #Blobs - Difference of Gaussian [x coord, y coord, radius size]\n",
    "    blobs_dog = blob_dog(image_gray, max_sigma=30, threshold=.1)\n",
    "    # use this method for image coordinates for fitting if corners detection fails later\n",
    "    \n",
    "    #Blobs - Laplacian of Gaussian [x coord, y coord, radius size]\n",
    "    blobs_log = blob_log(image_gray, max_sigma=30, num_sigma=10, threshold=.1) \n",
    "    gaussian_blobs = len(blobs_log)\n",
    "    guassian_means = np.mean(blobs_log[:,2])\n",
    "\n",
    "    #Blobs - Determinant of Hessian [x coord, y coord, radius size]\n",
    "    blobs_doh = blob_doh(image_gray, max_sigma=30, threshold=.01) \n",
    "    hessain_blobs = len(blobs_doh)\n",
    "    hessain_means = np.mean(blobs_doh[:,2])\n",
    "    \n",
    "    #Linear Fitting With Corners Detction (Linear Fit to detect corner locations, help determine shape orientation)\n",
    "    coords = corner_peaks(corner_harris(image_gray), min_distance=5)\n",
    "    if coords.shape[0] == 0: #for some reason, corners fails on certain images, use diff method to find feature coordinates\n",
    "        coords=np.empty([len(blobs_dog),2])\n",
    "        coords[:,0] = blobs_dog[:,0]\n",
    "        coords[:,1] = blobs_dog[:,1]\n",
    "        \n",
    "    lin_slope, lin_intercept, lin_r_value, lin_p_value, lin_std_err = stats.linregress(coords[:,0],coords[:,1])\n",
    "    lin_rsq_value = lin_r_value**2\n",
    "\n",
    "    return [file_name, x, y, most_freq_color, red_val, grn_val, blu_val, grey_val,\n",
    "          binary_per, mean_sharp, avg_sharp_freq, roberts_score, sobel_score,\n",
    "          lin_slope, lin_intercept, lin_rsq_value, lin_p_value, lin_std_err,\n",
    "          gaussian_blobs, guassian_means, hessain_blobs, hessain_means, category]"
   ]
  },
  {
   "cell_type": "code",
   "execution_count": 15,
   "metadata": {},
   "outputs": [],
   "source": [
    "im.show(image)"
   ]
  },
  {
   "cell_type": "code",
   "execution_count": 46,
   "metadata": {},
   "outputs": [
    {
     "ename": "ValueError",
     "evalue": "Inputs must not be empty.",
     "output_type": "error",
     "traceback": [
      "\u001b[0;31m---------------------------------------------------------------------------\u001b[0m",
      "\u001b[0;31mValueError\u001b[0m                                Traceback (most recent call last)",
      "\u001b[0;32m<ipython-input-46-ac8569b93d95>\u001b[0m in \u001b[0;36m<module>\u001b[0;34m()\u001b[0m\n\u001b[1;32m      1\u001b[0m \u001b[0mcoords\u001b[0m \u001b[0;34m=\u001b[0m \u001b[0mcorner_peaks\u001b[0m\u001b[0;34m(\u001b[0m\u001b[0mcorner_harris\u001b[0m\u001b[0;34m(\u001b[0m\u001b[0mimage_gray\u001b[0m\u001b[0;34m)\u001b[0m\u001b[0;34m,\u001b[0m \u001b[0mmin_distance\u001b[0m\u001b[0;34m=\u001b[0m\u001b[0;36m5\u001b[0m\u001b[0;34m)\u001b[0m\u001b[0;34m\u001b[0m\u001b[0m\n\u001b[0;32m----> 2\u001b[0;31m \u001b[0mlin_slope\u001b[0m\u001b[0;34m,\u001b[0m \u001b[0mlin_intercept\u001b[0m\u001b[0;34m,\u001b[0m \u001b[0mlin_r_value\u001b[0m\u001b[0;34m,\u001b[0m \u001b[0mlin_p_value\u001b[0m\u001b[0;34m,\u001b[0m \u001b[0mlin_std_err\u001b[0m \u001b[0;34m=\u001b[0m \u001b[0mstats\u001b[0m\u001b[0;34m.\u001b[0m\u001b[0mlinregress\u001b[0m\u001b[0;34m(\u001b[0m\u001b[0mcoords\u001b[0m\u001b[0;34m[\u001b[0m\u001b[0;34m:\u001b[0m\u001b[0;34m,\u001b[0m\u001b[0;36m0\u001b[0m\u001b[0;34m]\u001b[0m\u001b[0;34m,\u001b[0m\u001b[0mcoords\u001b[0m\u001b[0;34m[\u001b[0m\u001b[0;34m:\u001b[0m\u001b[0;34m,\u001b[0m\u001b[0;36m1\u001b[0m\u001b[0;34m]\u001b[0m\u001b[0;34m)\u001b[0m\u001b[0;34m\u001b[0m\u001b[0m\n\u001b[0m\u001b[1;32m      3\u001b[0m \u001b[0mlin_rsq_value\u001b[0m \u001b[0;34m=\u001b[0m \u001b[0mlin_r_value\u001b[0m\u001b[0;34m**\u001b[0m\u001b[0;36m2\u001b[0m\u001b[0;34m\u001b[0m\u001b[0m\n",
      "\u001b[0;32m/anaconda3/lib/python3.6/site-packages/scipy/stats/_stats_mstats_common.py\u001b[0m in \u001b[0;36mlinregress\u001b[0;34m(x, y)\u001b[0m\n\u001b[1;32m     84\u001b[0m \u001b[0;34m\u001b[0m\u001b[0m\n\u001b[1;32m     85\u001b[0m     \u001b[0;32mif\u001b[0m \u001b[0mx\u001b[0m\u001b[0;34m.\u001b[0m\u001b[0msize\u001b[0m \u001b[0;34m==\u001b[0m \u001b[0;36m0\u001b[0m \u001b[0;32mor\u001b[0m \u001b[0my\u001b[0m\u001b[0;34m.\u001b[0m\u001b[0msize\u001b[0m \u001b[0;34m==\u001b[0m \u001b[0;36m0\u001b[0m\u001b[0;34m:\u001b[0m\u001b[0;34m\u001b[0m\u001b[0m\n\u001b[0;32m---> 86\u001b[0;31m         \u001b[0;32mraise\u001b[0m \u001b[0mValueError\u001b[0m\u001b[0;34m(\u001b[0m\u001b[0;34m\"Inputs must not be empty.\"\u001b[0m\u001b[0;34m)\u001b[0m\u001b[0;34m\u001b[0m\u001b[0m\n\u001b[0m\u001b[1;32m     87\u001b[0m \u001b[0;34m\u001b[0m\u001b[0m\n\u001b[1;32m     88\u001b[0m     \u001b[0mn\u001b[0m \u001b[0;34m=\u001b[0m \u001b[0mlen\u001b[0m\u001b[0;34m(\u001b[0m\u001b[0mx\u001b[0m\u001b[0;34m)\u001b[0m\u001b[0;34m\u001b[0m\u001b[0m\n",
      "\u001b[0;31mValueError\u001b[0m: Inputs must not be empty."
     ]
    }
   ],
   "source": [
    "coords = corner_peaks(corner_harris(image_gray), min_distance=5)\n",
    "lin_slope, lin_intercept, lin_r_value, lin_p_value, lin_std_err = stats.linregress(coords[:,0],coords[:,1])\n",
    "lin_rsq_value = lin_r_value**2"
   ]
  },
  {
   "cell_type": "code",
   "execution_count": 54,
   "metadata": {},
   "outputs": [
    {
     "data": {
      "text/plain": [
       "array([[ 161.,  400.],\n",
       "       [ 138.,   78.],\n",
       "       [ 138.,   70.],\n",
       "       [ 131.,  191.],\n",
       "       [ 127.,  205.],\n",
       "       [ 124.,  216.],\n",
       "       [ 122.,  315.],\n",
       "       [ 122.,  147.],\n",
       "       [ 121.,  120.],\n",
       "       [ 120.,  139.],\n",
       "       [ 115.,   94.],\n",
       "       [ 114.,  320.],\n",
       "       [ 114.,  284.],\n",
       "       [ 114.,  273.],\n",
       "       [ 113.,  326.],\n",
       "       [ 113.,  180.],\n",
       "       [ 112.,   67.],\n",
       "       [ 108.,  356.],\n",
       "       [ 106.,    0.],\n",
       "       [ 105.,  329.],\n",
       "       [ 104.,  324.],\n",
       "       [ 103.,  319.],\n",
       "       [  98.,   72.],\n",
       "       [  93.,  203.],\n",
       "       [  90.,  400.],\n",
       "       [  90.,  243.],\n",
       "       [  74.,  122.],\n",
       "       [   0.,  400.],\n",
       "       [   0.,  270.]])"
      ]
     },
     "execution_count": 54,
     "metadata": {},
     "output_type": "execute_result"
    }
   ],
   "source": [
    "if coords.shape[0] == 0:\n",
    "    coords=np.empty([len(blobs_dog),2])\n",
    "    coords[:,0] = blobs_dog[:,0]\n",
    "    coords[:,1] = blobs_dog[:,1]\n",
    "\n",
    "coords"
   ]
  },
  {
   "cell_type": "code",
   "execution_count": 7,
   "metadata": {},
   "outputs": [],
   "source": [
    "# #Avg Color - Likely not gonna be helpful - Also removed from the actual code bc its very very slow\n",
    "# colour_tuple = [None, None, None]\n",
    "# for channel in range(3):\n",
    "# # Get data for one channel at a time\n",
    "#     pixels = im.getdata(band=channel)\n",
    "#     values = []\n",
    "#     for pixel in pixels:\n",
    "#         values.append(pixel)\n",
    "#         colour_tuple[channel] = sum(values) / len(values)\n",
    "# #Convert RGB Values to single unique number\n",
    "# Avg_color = 65536*colour_tuple[0] + 256*colour_tuple[1] + colour_tuple[2]"
   ]
  },
  {
   "cell_type": "code",
   "execution_count": 29,
   "metadata": {},
   "outputs": [],
   "source": []
  },
  {
   "cell_type": "code",
   "execution_count": 44,
   "metadata": {},
   "outputs": [
    {
     "data": {
      "text/plain": [
       "array([[ 161.,  400.],\n",
       "       [ 138.,   78.],\n",
       "       [ 138.,   70.],\n",
       "       [ 131.,  191.],\n",
       "       [ 127.,  205.],\n",
       "       [ 124.,  216.],\n",
       "       [ 122.,  315.],\n",
       "       [ 122.,  147.],\n",
       "       [ 121.,  120.],\n",
       "       [ 120.,  139.],\n",
       "       [ 115.,   94.],\n",
       "       [ 114.,  320.],\n",
       "       [ 114.,  284.],\n",
       "       [ 114.,  273.],\n",
       "       [ 113.,  326.],\n",
       "       [ 113.,  180.],\n",
       "       [ 112.,   67.],\n",
       "       [ 108.,  356.],\n",
       "       [ 106.,    0.],\n",
       "       [ 105.,  329.],\n",
       "       [ 104.,  324.],\n",
       "       [ 103.,  319.],\n",
       "       [  98.,   72.],\n",
       "       [  93.,  203.],\n",
       "       [  90.,  400.],\n",
       "       [  90.,  243.],\n",
       "       [  74.,  122.],\n",
       "       [   0.,  400.],\n",
       "       [   0.,  270.]])"
      ]
     },
     "execution_count": 44,
     "metadata": {},
     "output_type": "execute_result"
    }
   ],
   "source": [
    "coords=np.empty([len(blobs_dog),2])\n",
    "coords[:,0] = blobs_dog[:,0]\n",
    "coords[:,1] = blobs_dog[:,1]\n"
   ]
  },
  {
   "cell_type": "code",
   "execution_count": null,
   "metadata": {},
   "outputs": [],
   "source": []
  },
  {
   "cell_type": "code",
   "execution_count": null,
   "metadata": {},
   "outputs": [],
   "source": []
  }
 ],
 "metadata": {
  "kernelspec": {
   "display_name": "Python 3",
   "language": "python",
   "name": "python3"
  },
  "language_info": {
   "codemirror_mode": {
    "name": "ipython",
    "version": 3
   },
   "file_extension": ".py",
   "mimetype": "text/x-python",
   "name": "python",
   "nbconvert_exporter": "python",
   "pygments_lexer": "ipython3",
   "version": "3.6.4"
  }
 },
 "nbformat": 4,
 "nbformat_minor": 2
}
