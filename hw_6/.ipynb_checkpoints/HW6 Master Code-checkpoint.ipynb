{
 "cells": [
  {
   "cell_type": "code",
   "execution_count": 57,
   "metadata": {},
   "outputs": [],
   "source": [
    "#Run the Master Code to Call all Feature Extraction Protocols\n",
    "# need to install PIL / pillow to run this\n",
    "# $ pip install Pillow\n",
    "\n",
    "#Import all the Modules Needed for FEATURE_EXTRACTION\n",
    "import os\n",
    "import numpy as np\n",
    "from scipy import stats\n",
    "import pandas as pd\n",
    "from PIL import Image\n",
    "from skimage import color\n",
    "from skimage.util.dtype import dtype_range\n",
    "from skimage.util import img_as_ubyte\n",
    "from skimage.morphology import disk\n",
    "from skimage.filters.rank import gradient\n",
    "from skimage.filters import roberts, sobel, threshold_otsu\n",
    "from skimage.feature import corner_harris, corner_peaks, blob_log, blob_doh, blob_dog"
   ]
  },
  {
   "cell_type": "code",
   "execution_count": 58,
   "metadata": {},
   "outputs": [],
   "source": [
    "#This function walks through all the files in the main 50_categories folder\n",
    "# to generate an iterable list of file paths to submit later for feature extraction\n",
    "\n",
    "def directory_search(directory):\n",
    "    directory_list = [] #initialize list of lists to collect features \n",
    "    subdirectories = [f for f in os.listdir(directory) if not f.startswith('.')] #ignores hidden folders\n",
    "    for i in range(len(subdirectories)):\n",
    "        folder = subdirectories[i]\n",
    "        subdirectory = directory+folder\n",
    "        files = [f for f in os.listdir(subdirectory) if not f.startswith('.')] #ignores hidden folders\n",
    "        for j in range(len(files)):\n",
    "            file = files[j]\n",
    "            file_name = subdirectory+'/'+file\n",
    "            directory_list.append(file_name)\n",
    "    return directory_list\n",
    "\n",
    "#Assemble directory List w/above function\n",
    "directory = '/Users/Charlie/Desktop/50_categories/' #define this as YOUR path to the 50_categories folder\n",
    "list_of_paths = directory_search(directory) "
   ]
  },
  {
   "cell_type": "code",
   "execution_count": 61,
   "metadata": {},
   "outputs": [],
   "source": [
    "def feature_extraction(path):\n",
    "    parts = path.split('/')\n",
    "    category = parts[5]\n",
    "    file_name = parts[6]\n",
    "    \n",
    "    #Read image\n",
    "    im = Image.open(path)\n",
    "    image = np.array(im)\n",
    "    #Basic Feature Extraction\n",
    "    \n",
    "    #Image Size\n",
    "    y = image.shape[0]\n",
    "    x = image.shape[1]\n",
    "\n",
    "    #Image Color\n",
    "    if len(image.shape) == 2: #image is grey scale\n",
    "        image_gray = image\n",
    "        red_val = 'nan'\n",
    "        grn_val = 'nan'\n",
    "        blu_val = 'nan'\n",
    "        most_freq_color = 'nan' #will clear later(?)\n",
    "    elif len(image.shape) == 3: #image is RGB color\n",
    "    \n",
    "    #Most Frequent Color (really go with 2nd most freq, many of the images will have white borders and make it the most common, which is not helpful)\n",
    "        pixels = im.getcolors(x * y)\n",
    "        most_frequent_pixel = pixels[1]\n",
    "    #Convert RGB Values to single unique number\n",
    "        most_freq_color = 65536*most_frequent_pixel[1][0] + 256*most_frequent_pixel[1][1] + most_frequent_pixel[1][2]\n",
    "\n",
    "    #Avg Value per Color channel\n",
    "        red_val = np.mean(image[:,:,0])\n",
    "        grn_val = np.mean(image[:,:,1])\n",
    "        blu_val = np.mean(image[:,:,2])\n",
    "    \n",
    "    #Grey Scale value \n",
    "    image_gray = color.rgb2gray(image)\n",
    "    grey_val = np.mean(image_gray)\n",
    "\n",
    "    #Outsu Binary Score\n",
    "    thresh = threshold_otsu(image_gray)\n",
    "    binary = image_gray > thresh\n",
    "    binary_per = np.sum(binary)/(x*y) #since we'll be comparing images of different sizes, its more appropriate to use percent of image converted in the binary and not total binary score (# of black pixels)\n",
    "\n",
    "    #Sharpness and Sharpness Frequencies\n",
    "    selection_element = disk(5) # matrix of n pixels with a disk shape\n",
    "    sharpness = (gradient(image_gray, selection_element))\n",
    "    mean_sharp=np.mean(sharpness)\n",
    "    sharp = sharpness.flatten()\n",
    "    shrp = np.fft.fft(sharp)\n",
    "    freq = np.fft.fftfreq(shrp.size, d=1)\n",
    "    avg_sharp_freq = np.mean(freq)\n",
    "\n",
    "    #Edge Detection\n",
    "    edge_roberts = roberts(image_gray)\n",
    "    edge_sobel = sobel(image_gray)\n",
    "    roberts_score = np.sum(edge_roberts)/(x*y) #normalize to size of image\n",
    "    sobel_score = np.sum(edge_sobel)/(x*y)\n",
    "\n",
    "    #Blobs - Difference of Gaussian [x coord, y coord, radius size]\n",
    "    blobs_dog = blob_dog(image_gray, max_sigma=30, threshold=.1)\n",
    "    # use this method for image coordinates for fitting if corners detection fails later\n",
    "    \n",
    "    #Blobs - Laplacian of Gaussian [x coord, y coord, radius size]\n",
    "    blobs_log = blob_log(image_gray, max_sigma=30, num_sigma=10, threshold=.1) \n",
    "    gaussian_blobs = len(blobs_log)\n",
    "    guassian_means = np.mean(blobs_log[:,2])\n",
    "\n",
    "    #Blobs - Determinant of Hessian [x coord, y coord, radius size]\n",
    "    blobs_doh = blob_doh(image_gray, max_sigma=30, threshold=.01) \n",
    "    hessain_blobs = len(blobs_doh)\n",
    "    hessain_means = np.mean(blobs_doh[:,2])\n",
    "    \n",
    "    #Linear Fitting With Corners Detction (Linear Fit to detect corner locations, help determine shape orientation)\n",
    "    coords = corner_peaks(corner_harris(image_gray), min_distance=5)\n",
    "    if coords.shape[0] == 0: #for some reason, corners fails on certain images, use diff method to find feature coordinates\n",
    "        coords=np.empty([len(blobs_dog),2])\n",
    "        coords[:,0] = blobs_dog[:,0]\n",
    "        coords[:,1] = blobs_dog[:,1]\n",
    "        \n",
    "    lin_slope, lin_intercept, lin_r_value, lin_p_value, lin_std_err = stats.linregress(coords[:,0],coords[:,1])\n",
    "    lin_rsq_value = lin_r_value**2\n",
    "\n",
    "    return [file_name, x, y, most_freq_color, red_val, grn_val, blu_val, grey_val,\n",
    "          binary_per, mean_sharp, avg_sharp_freq, roberts_score, sobel_score,\n",
    "          lin_slope, lin_intercept, lin_rsq_value, lin_p_value, lin_std_err,\n",
    "          gaussian_blobs, guassian_means, hessain_blobs, hessain_means, category]"
   ]
  },
  {
   "cell_type": "code",
   "execution_count": 62,
   "metadata": {
    "scrolled": true
   },
   "outputs": [
    {
     "ename": "NameError",
     "evalue": "name 'rgb2gray' is not defined",
     "output_type": "error",
     "traceback": [
      "\u001b[0;31m---------------------------------------------------------------------------\u001b[0m",
      "\u001b[0;31m_RemoteTraceback\u001b[0m                          Traceback (most recent call last)",
      "\u001b[0;31m_RemoteTraceback\u001b[0m: \n\"\"\"\nTraceback (most recent call last):\n  File \"/anaconda3/lib/python3.6/concurrent/futures/process.py\", line 175, in _process_worker\n    r = call_item.fn(*call_item.args, **call_item.kwargs)\n  File \"/anaconda3/lib/python3.6/concurrent/futures/process.py\", line 153, in _process_chunk\n    return [fn(*args) for args in chunk]\n  File \"/anaconda3/lib/python3.6/concurrent/futures/process.py\", line 153, in <listcomp>\n    return [fn(*args) for args in chunk]\n  File \"<ipython-input-61-f75986f111aa>\", line 36, in feature_extraction\n    image_gray = rgb2gray(image)\nNameError: name 'rgb2gray' is not defined\n\"\"\"",
      "\nThe above exception was the direct cause of the following exception:\n",
      "\u001b[0;31mNameError\u001b[0m                                 Traceback (most recent call last)",
      "\u001b[0;32m<ipython-input-62-23372eadd2fa>\u001b[0m in \u001b[0;36m<module>\u001b[0;34m()\u001b[0m\n\u001b[1;32m      3\u001b[0m \u001b[0me\u001b[0m \u001b[0;34m=\u001b[0m \u001b[0mProcessPoolExecutor\u001b[0m\u001b[0;34m(\u001b[0m\u001b[0;34m)\u001b[0m\u001b[0;34m\u001b[0m\u001b[0m\n\u001b[1;32m      4\u001b[0m \u001b[0mfuture\u001b[0m \u001b[0;34m=\u001b[0m \u001b[0me\u001b[0m\u001b[0;34m.\u001b[0m\u001b[0msubmit\u001b[0m\u001b[0;34m(\u001b[0m\u001b[0mfeature_extraction\u001b[0m\u001b[0;34m,\u001b[0m\u001b[0mlist_of_paths\u001b[0m\u001b[0;34m)\u001b[0m\u001b[0;34m\u001b[0m\u001b[0m\n\u001b[0;32m----> 5\u001b[0;31m \u001b[0mresults\u001b[0m \u001b[0;34m=\u001b[0m \u001b[0mlist\u001b[0m\u001b[0;34m(\u001b[0m\u001b[0me\u001b[0m\u001b[0;34m.\u001b[0m\u001b[0mmap\u001b[0m\u001b[0;34m(\u001b[0m\u001b[0mfeature_extraction\u001b[0m\u001b[0;34m,\u001b[0m \u001b[0mlist_of_paths\u001b[0m\u001b[0;34m)\u001b[0m\u001b[0;34m)\u001b[0m\u001b[0;34m\u001b[0m\u001b[0m\n\u001b[0m\u001b[1;32m      6\u001b[0m \u001b[0;31m#returns a list of lists of the results from feature extraction\u001b[0m\u001b[0;34m\u001b[0m\u001b[0;34m\u001b[0m\u001b[0m\n\u001b[1;32m      7\u001b[0m \u001b[0;31m#collected into a pandas data frame below\u001b[0m\u001b[0;34m\u001b[0m\u001b[0;34m\u001b[0m\u001b[0m\n",
      "\u001b[0;32m/anaconda3/lib/python3.6/concurrent/futures/process.py\u001b[0m in \u001b[0;36m_chain_from_iterable_of_lists\u001b[0;34m(iterable)\u001b[0m\n\u001b[1;32m    364\u001b[0m     \u001b[0mcareful\u001b[0m \u001b[0;32mnot\u001b[0m \u001b[0mto\u001b[0m \u001b[0mkeep\u001b[0m \u001b[0mreferences\u001b[0m \u001b[0mto\u001b[0m \u001b[0myielded\u001b[0m \u001b[0mobjects\u001b[0m\u001b[0;34m.\u001b[0m\u001b[0;34m\u001b[0m\u001b[0m\n\u001b[1;32m    365\u001b[0m     \"\"\"\n\u001b[0;32m--> 366\u001b[0;31m     \u001b[0;32mfor\u001b[0m \u001b[0melement\u001b[0m \u001b[0;32min\u001b[0m \u001b[0miterable\u001b[0m\u001b[0;34m:\u001b[0m\u001b[0;34m\u001b[0m\u001b[0m\n\u001b[0m\u001b[1;32m    367\u001b[0m         \u001b[0melement\u001b[0m\u001b[0;34m.\u001b[0m\u001b[0mreverse\u001b[0m\u001b[0;34m(\u001b[0m\u001b[0;34m)\u001b[0m\u001b[0;34m\u001b[0m\u001b[0m\n\u001b[1;32m    368\u001b[0m         \u001b[0;32mwhile\u001b[0m \u001b[0melement\u001b[0m\u001b[0;34m:\u001b[0m\u001b[0;34m\u001b[0m\u001b[0m\n",
      "\u001b[0;32m/anaconda3/lib/python3.6/concurrent/futures/_base.py\u001b[0m in \u001b[0;36mresult_iterator\u001b[0;34m()\u001b[0m\n\u001b[1;32m    584\u001b[0m                     \u001b[0;31m# Careful not to keep a reference to the popped future\u001b[0m\u001b[0;34m\u001b[0m\u001b[0;34m\u001b[0m\u001b[0m\n\u001b[1;32m    585\u001b[0m                     \u001b[0;32mif\u001b[0m \u001b[0mtimeout\u001b[0m \u001b[0;32mis\u001b[0m \u001b[0;32mNone\u001b[0m\u001b[0;34m:\u001b[0m\u001b[0;34m\u001b[0m\u001b[0m\n\u001b[0;32m--> 586\u001b[0;31m                         \u001b[0;32myield\u001b[0m \u001b[0mfs\u001b[0m\u001b[0;34m.\u001b[0m\u001b[0mpop\u001b[0m\u001b[0;34m(\u001b[0m\u001b[0;34m)\u001b[0m\u001b[0;34m.\u001b[0m\u001b[0mresult\u001b[0m\u001b[0;34m(\u001b[0m\u001b[0;34m)\u001b[0m\u001b[0;34m\u001b[0m\u001b[0m\n\u001b[0m\u001b[1;32m    587\u001b[0m                     \u001b[0;32melse\u001b[0m\u001b[0;34m:\u001b[0m\u001b[0;34m\u001b[0m\u001b[0m\n\u001b[1;32m    588\u001b[0m                         \u001b[0;32myield\u001b[0m \u001b[0mfs\u001b[0m\u001b[0;34m.\u001b[0m\u001b[0mpop\u001b[0m\u001b[0;34m(\u001b[0m\u001b[0;34m)\u001b[0m\u001b[0;34m.\u001b[0m\u001b[0mresult\u001b[0m\u001b[0;34m(\u001b[0m\u001b[0mend_time\u001b[0m \u001b[0;34m-\u001b[0m \u001b[0mtime\u001b[0m\u001b[0;34m.\u001b[0m\u001b[0mtime\u001b[0m\u001b[0;34m(\u001b[0m\u001b[0;34m)\u001b[0m\u001b[0;34m)\u001b[0m\u001b[0;34m\u001b[0m\u001b[0m\n",
      "\u001b[0;32m/anaconda3/lib/python3.6/concurrent/futures/_base.py\u001b[0m in \u001b[0;36mresult\u001b[0;34m(self, timeout)\u001b[0m\n\u001b[1;32m    423\u001b[0m                 \u001b[0;32mraise\u001b[0m \u001b[0mCancelledError\u001b[0m\u001b[0;34m(\u001b[0m\u001b[0;34m)\u001b[0m\u001b[0;34m\u001b[0m\u001b[0m\n\u001b[1;32m    424\u001b[0m             \u001b[0;32melif\u001b[0m \u001b[0mself\u001b[0m\u001b[0;34m.\u001b[0m\u001b[0m_state\u001b[0m \u001b[0;34m==\u001b[0m \u001b[0mFINISHED\u001b[0m\u001b[0;34m:\u001b[0m\u001b[0;34m\u001b[0m\u001b[0m\n\u001b[0;32m--> 425\u001b[0;31m                 \u001b[0;32mreturn\u001b[0m \u001b[0mself\u001b[0m\u001b[0;34m.\u001b[0m\u001b[0m__get_result\u001b[0m\u001b[0;34m(\u001b[0m\u001b[0;34m)\u001b[0m\u001b[0;34m\u001b[0m\u001b[0m\n\u001b[0m\u001b[1;32m    426\u001b[0m \u001b[0;34m\u001b[0m\u001b[0m\n\u001b[1;32m    427\u001b[0m             \u001b[0mself\u001b[0m\u001b[0;34m.\u001b[0m\u001b[0m_condition\u001b[0m\u001b[0;34m.\u001b[0m\u001b[0mwait\u001b[0m\u001b[0;34m(\u001b[0m\u001b[0mtimeout\u001b[0m\u001b[0;34m)\u001b[0m\u001b[0;34m\u001b[0m\u001b[0m\n",
      "\u001b[0;32m/anaconda3/lib/python3.6/concurrent/futures/_base.py\u001b[0m in \u001b[0;36m__get_result\u001b[0;34m(self)\u001b[0m\n\u001b[1;32m    382\u001b[0m     \u001b[0;32mdef\u001b[0m \u001b[0m__get_result\u001b[0m\u001b[0;34m(\u001b[0m\u001b[0mself\u001b[0m\u001b[0;34m)\u001b[0m\u001b[0;34m:\u001b[0m\u001b[0;34m\u001b[0m\u001b[0m\n\u001b[1;32m    383\u001b[0m         \u001b[0;32mif\u001b[0m \u001b[0mself\u001b[0m\u001b[0;34m.\u001b[0m\u001b[0m_exception\u001b[0m\u001b[0;34m:\u001b[0m\u001b[0;34m\u001b[0m\u001b[0m\n\u001b[0;32m--> 384\u001b[0;31m             \u001b[0;32mraise\u001b[0m \u001b[0mself\u001b[0m\u001b[0;34m.\u001b[0m\u001b[0m_exception\u001b[0m\u001b[0;34m\u001b[0m\u001b[0m\n\u001b[0m\u001b[1;32m    385\u001b[0m         \u001b[0;32melse\u001b[0m\u001b[0;34m:\u001b[0m\u001b[0;34m\u001b[0m\u001b[0m\n\u001b[1;32m    386\u001b[0m             \u001b[0;32mreturn\u001b[0m \u001b[0mself\u001b[0m\u001b[0;34m.\u001b[0m\u001b[0m_result\u001b[0m\u001b[0;34m\u001b[0m\u001b[0m\n",
      "\u001b[0;31mNameError\u001b[0m: name 'rgb2gray' is not defined"
     ]
    }
   ],
   "source": [
    "#concurrent.futures for parallelizing the feature extraction\n",
    "from concurrent.futures import ProcessPoolExecutor\n",
    "e = ProcessPoolExecutor()\n",
    "future = e.submit(feature_extraction,list_of_paths)\n",
    "results = list(e.map(feature_extraction, list_of_paths)) \n",
    "#returns a list of lists of the results from feature extraction\n",
    "#collected into a pandas data frame below\n",
    "e.shutdown\n",
    "\n",
    "#Organize Extracted Features\n",
    "columns=['file name','x', 'y', 'most_freq_color', 'red_val', 'grn_val', 'blu_val', 'grey_val','binary_per', 'mean_sharp', 'avg_sharp_freq', 'roberts_score', 'sobel_score',\n",
    "          'lin_slope', 'lin_intercept', 'lin_rsq_value', 'lin_p_value', 'lin_std_err',\n",
    "          'gaussian_blobs', 'guassian_means', 'hessain_blobs', 'hessain_means', 'category']\n",
    "category_vals = pd.DataFrame(results,columns=columns)\n",
    "\n",
    "#ignore the large amount of warning and error messages below...\n",
    "#And be patient, might take a second or two, or a few minutes\n",
    "\n",
    "#The resulted DataFrame from all the categories is saved as a .CSV in the homework folder"
   ]
  },
  {
   "cell_type": "code",
   "execution_count": 6,
   "metadata": {},
   "outputs": [
    {
     "ename": "NameError",
     "evalue": "name 'category_vals' is not defined",
     "output_type": "error",
     "traceback": [
      "\u001b[0;31m---------------------------------------------------------------------------\u001b[0m",
      "\u001b[0;31mNameError\u001b[0m                                 Traceback (most recent call last)",
      "\u001b[0;32m<ipython-input-6-e393423bad39>\u001b[0m in \u001b[0;36m<module>\u001b[0;34m()\u001b[0m\n\u001b[0;32m----> 1\u001b[0;31m \u001b[0mcategory_vals\u001b[0m \u001b[0;31m#check if it worked!\u001b[0m\u001b[0;34m\u001b[0m\u001b[0m\n\u001b[0m",
      "\u001b[0;31mNameError\u001b[0m: name 'category_vals' is not defined"
     ]
    }
   ],
   "source": [
    "category_vals #check if it worked!"
   ]
  },
  {
   "cell_type": "code",
   "execution_count": null,
   "metadata": {},
   "outputs": [],
   "source": []
  },
  {
   "cell_type": "code",
   "execution_count": 43,
   "metadata": {},
   "outputs": [],
   "source": [
    "path = '/Users/Charlie/Desktop/50_categories/gorilla/gorilla_0112.jpg'\n",
    "im = Image.open(path)\n",
    "image = np.array(im)\n",
    "\n",
    "y = image.shape[0]\n",
    "x = image.shape[1]\n",
    "\n",
    "    #Most Frequent Color (really go with 2nd most freq, many of the images will have white borders and make it the most common, which is not helpful)\n",
    "pixels = im.getcolors(x * y)\n",
    "most_frequent_pixel = pixels[1]\n"
   ]
  },
  {
   "cell_type": "code",
   "execution_count": 45,
   "metadata": {},
   "outputs": [
    {
     "ename": "NameError",
     "evalue": "name 'image_gray' is not defined",
     "output_type": "error",
     "traceback": [
      "\u001b[0;31m---------------------------------------------------------------------------\u001b[0m",
      "\u001b[0;31mNameError\u001b[0m                                 Traceback (most recent call last)",
      "\u001b[0;32m<ipython-input-45-812aa90b1e74>\u001b[0m in \u001b[0;36m<module>\u001b[0;34m()\u001b[0m\n\u001b[1;32m      2\u001b[0m \u001b[0mgrn_val\u001b[0m \u001b[0;34m=\u001b[0m \u001b[0mnp\u001b[0m\u001b[0;34m.\u001b[0m\u001b[0mmean\u001b[0m\u001b[0;34m(\u001b[0m\u001b[0mimage\u001b[0m\u001b[0;34m[\u001b[0m\u001b[0;34m:\u001b[0m\u001b[0;34m,\u001b[0m\u001b[0;34m:\u001b[0m\u001b[0;34m,\u001b[0m\u001b[0;36m1\u001b[0m\u001b[0;34m]\u001b[0m\u001b[0;34m)\u001b[0m\u001b[0;34m\u001b[0m\u001b[0m\n\u001b[1;32m      3\u001b[0m \u001b[0mblu_val\u001b[0m \u001b[0;34m=\u001b[0m \u001b[0mnp\u001b[0m\u001b[0;34m.\u001b[0m\u001b[0mmean\u001b[0m\u001b[0;34m(\u001b[0m\u001b[0mimage\u001b[0m\u001b[0;34m[\u001b[0m\u001b[0;34m:\u001b[0m\u001b[0;34m,\u001b[0m\u001b[0;34m:\u001b[0m\u001b[0;34m,\u001b[0m\u001b[0;36m2\u001b[0m\u001b[0;34m]\u001b[0m\u001b[0;34m)\u001b[0m\u001b[0;34m\u001b[0m\u001b[0m\n\u001b[0;32m----> 4\u001b[0;31m \u001b[0mgrey_val\u001b[0m \u001b[0;34m=\u001b[0m \u001b[0mnp\u001b[0m\u001b[0;34m.\u001b[0m\u001b[0mmean\u001b[0m\u001b[0;34m(\u001b[0m\u001b[0mimage_gray\u001b[0m\u001b[0;34m)\u001b[0m\u001b[0;34m\u001b[0m\u001b[0m\n\u001b[0m",
      "\u001b[0;31mNameError\u001b[0m: name 'image_gray' is not defined"
     ]
    }
   ],
   "source": [
    "red_val = np.mean(image[:,:,0])\n",
    "grn_val = np.mean(image[:,:,1])\n",
    "blu_val = np.mean(image[:,:,2])\n"
   ]
  },
  {
   "cell_type": "code",
   "execution_count": 54,
   "metadata": {},
   "outputs": [
    {
     "data": {
      "text/plain": [
       "3"
      ]
     },
     "execution_count": 54,
     "metadata": {},
     "output_type": "execute_result"
    }
   ],
   "source": [
    "image.shape[2]"
   ]
  },
  {
   "cell_type": "code",
   "execution_count": null,
   "metadata": {},
   "outputs": [],
   "source": []
  }
 ],
 "metadata": {
  "kernelspec": {
   "display_name": "Python 3",
   "language": "python",
   "name": "python3"
  },
  "language_info": {
   "codemirror_mode": {
    "name": "ipython",
    "version": 3
   },
   "file_extension": ".py",
   "mimetype": "text/x-python",
   "name": "python",
   "nbconvert_exporter": "python",
   "pygments_lexer": "ipython3",
   "version": "3.6.4"
  }
 },
 "nbformat": 4,
 "nbformat_minor": 2
}
