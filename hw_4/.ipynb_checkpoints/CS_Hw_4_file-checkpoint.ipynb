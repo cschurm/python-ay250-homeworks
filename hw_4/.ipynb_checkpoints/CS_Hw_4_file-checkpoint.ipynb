{
 "cells": [
  {
   "cell_type": "code",
   "execution_count": 38,
   "metadata": {},
   "outputs": [
    {
     "name": "stdout",
     "output_type": "stream",
     "text": [
      "Pi Approximation: 3.141234\n",
      "Number of Darts: 2000000\n",
      "Execution Time (s): 1.701366662979126\n",
      "Darts Thrown per Second: 1175525.5604326709\n"
     ]
    }
   ],
   "source": [
    "#write out the algorithm, check that it works\n",
    "from random import uniform\n",
    "from math import sqrt\n",
    "from time import time\n",
    "\n",
    "#Define total number of darsts to throw - perhaps make this an input value\n",
    "num_darts = 2000000\n",
    "#Define a variable to store the number of darts that fall inside the circle\n",
    "num_darts_circle = 0\n",
    "\n",
    "#Record the time execution time of the loop that runs the actual situation\n",
    "start_time = time()\n",
    "\n",
    "#This loop simulates the dart throwing. For ea. dart find a random position in the unit square for it to fall\n",
    "#Test if the location of the thrown dart is within the circle by calculating its distance from the center (0.5,0.5)\n",
    "#Darts that are within 0.5 of the origin are within the circle.\n",
    "for n in range(num_darts):\n",
    "    x,y = uniform(0,1), uniform(0,1)\n",
    "    if sqrt((x-0.5)**2+(y-0.5)**2) <= 0.5:\n",
    "        num_darts_circle += 1\n",
    "\n",
    "#record the time after the conclusion of the loop\n",
    "end_time = time()\n",
    "#The total time requiered to run the loop is the difference\n",
    "execution_time = end_time - start_time\n",
    "\n",
    "#Calc. the approx for Pi\n",
    "# pi = 4 * Area\n",
    "pi_approx = 4 * (num_darts_circle / float(num_darts))\n",
    "\n",
    "print (\"Pi Approximation:\", pi_approx)\n",
    "print (\"Number of Darts:\", num_darts)\n",
    "print (\"Execution Time (s):\", execution_time)\n",
    "print (\"Darts Thrown per Second:\", num_darts/execution_time)"
   ]
  },
  {
   "cell_type": "markdown",
   "metadata": {},
   "source": [
    "# Four Different parallization methods tried below:\n",
    "\n",
    "# 1 - simple/threading\n",
    "# 2 - multiprocessor/pooling\n",
    "# 3 - concurrent futures\n",
    "# 4 - ipyparallel"
   ]
  },
  {
   "cell_type": "markdown",
   "metadata": {},
   "source": [
    "# . . .\n",
    "# #1 Semi-Simple Execution (Threading)"
   ]
  },
  {
   "cell_type": "code",
   "execution_count": 39,
   "metadata": {},
   "outputs": [],
   "source": [
    "#Simple Threading Method - This will take time to run\n",
    "\n",
    "from random import uniform\n",
    "from math import sqrt\n",
    "from time import time\n",
    "import os\n",
    "os.getpid()\n",
    "import threading\n",
    "import numpy as np\n",
    "from queue import Queue\n",
    "\n",
    "#initialize export variables\n",
    "a = Queue()\n",
    "b = Queue()\n",
    "c = Queue()\n",
    "\n",
    "#define the simulation in a threading method\n",
    "def thrower(num):\n",
    "    \"\"\"Dart Throwing code\"\"\"\n",
    "    #Define total number of darts to throw\n",
    "    num_darts = num\n",
    "    #Define a variable to store the number of darts that fall inside the circle\n",
    "    num_darts_circle = 0\n",
    "\n",
    "    #Record the time execution time of the loop that runs the actual situation\n",
    "    start_time = time()\n",
    "\n",
    "    #This loop simulates the dart throwing. For ea. dart find a random position in the unit square for it to fall\n",
    "    #Test if the location of the thrown dart is within the circle by calculating its distance from the center (0.5,0.5)\n",
    "    #Darts that are within 0.5 of the origin are within the circle.\n",
    "    for n in range(num_darts):\n",
    "        x,y = uniform(0,1), uniform(0,1)\n",
    "        if sqrt((x-0.5)**2+(y-0.5)**2) <= 0.5:\n",
    "            num_darts_circle += 1\n",
    "\n",
    "    #record the time after the conclusion of the loop\n",
    "    end_time = time()\n",
    "    #The total time requiered to run the loop is the difference\n",
    "    execution_time = end_time - start_time\n",
    "\n",
    "    #Calc. the approx for Pi\n",
    "    # pi = 4 * Area\n",
    "    pi_approx = 4 * (num_darts_circle / float(num_darts))\n",
    "    darts_per_sec = num_darts/execution_time\n",
    "    \n",
    "    #output results\n",
    "    a.put(darts_per_sec)\n",
    "    b.put(execution_time)\n",
    "    c.put(num_darts)\n",
    "    return\n",
    "\n",
    "threads = []\n",
    "#creat the input values for the threads\n",
    "trials = np.linspace(10**1,10**7,71)\n",
    "vals=[]\n",
    "for i in range(len(trials)):\n",
    "    vals.append(int(trials[i]))\n",
    "\n",
    "#call the threading function\n",
    "for x,i in enumerate(vals):\n",
    "    t = threading.Thread(target=thrower, args=(i,))\n",
    "    threads.append(t)\n",
    "    t.start()\n",
    "    \n",
    "#generate the output variables from the queue\n",
    "sim_rate = list(a.queue)\n",
    "Execution_time = list(b.queue)\n",
    "Darts_thrown = list(c.queue)"
   ]
  },
  {
   "cell_type": "markdown",
   "metadata": {},
   "source": [
    "# #2 Multiprocessing Using Pools"
   ]
  },
  {
   "cell_type": "code",
   "execution_count": 41,
   "metadata": {},
   "outputs": [],
   "source": [
    "#Pooling w/multiprocessing\n",
    "# some overhead to launch the pools may slow down calculation time\n",
    "\n",
    "import time\n",
    "import multiprocessing\n",
    "from multiprocessing import Pool\n",
    "from random import uniform\n",
    "from math import sqrt\n",
    "from time import time\n",
    "import os\n",
    "os.getpid()\n",
    "import numpy as np\n",
    "\n",
    "def thrower(num):\n",
    "    \"\"\"Dart Throwing code\"\"\"\n",
    "    #Define total number of darts to throw\n",
    "    num_darts = num\n",
    "    #Define a variable to store the number of darts that fall inside the circle\n",
    "    num_darts_circle = 0\n",
    "    #Record the time execution time of the loop that runs the actual situation\n",
    "    start_time = time()\n",
    "\n",
    "    #This loop simulates the dart throwing. For ea. dart find a random position in the unit square for it to fall\n",
    "    #Test if the location of the thrown dart is within the circle by calculating its distance from the center (0.5,0.5)\n",
    "    #Darts that are within 0.5 of the origin are within the circle.\n",
    "    for n in range(num_darts):\n",
    "        x,y = uniform(0,1), uniform(0,1)\n",
    "        if sqrt((x-0.5)**2+(y-0.5)**2) <= 0.5:\n",
    "            num_darts_circle += 1\n",
    "\n",
    "    #record the time after the conclusion of the loop\n",
    "    end_time = time()\n",
    "    #The total time requiered to run the loop is the difference\n",
    "    execution_time = end_time - start_time\n",
    "\n",
    "    #Calc. the approx for Pi\n",
    "    # pi = 4 * Area\n",
    "    pi_approx = 4 * (num_darts_circle / float(num_darts))\n",
    "    darts_per_sec = num_darts/execution_time\n",
    "    \n",
    "    return (num_darts, execution_time, darts_per_sec)\n",
    "\n",
    "trials = np.linspace(10**1,10**7,71)\n",
    "vals=[]\n",
    "for i in range(len(trials)):\n",
    "    vals.append(int(trials[i]))\n",
    "\n",
    "\n",
    "pool = Pool(processes=8)  # start worker processes \n",
    "ress = pool.map(thrower,vals) #call the pool to execute the simulation function\n",
    "pool.terminate() \n",
    "del pool\n",
    "\n",
    "#parse results (list of tuples) likely not the most elegant way to do this...\n",
    "pl_Darts_thrown=[]\n",
    "pl_sim_rate=[]\n",
    "pl_execution_time=[]\n",
    "for i in range(len(ress)):\n",
    "        pl_Darts_thrown.append(ress[i][0])\n",
    "        pl_sim_rate.append(ress[i][2])\n",
    "        pl_execution_time.append(ress[i][1])"
   ]
  },
  {
   "cell_type": "markdown",
   "metadata": {},
   "source": [
    "# #3 concurrent.futures"
   ]
  },
  {
   "cell_type": "code",
   "execution_count": 42,
   "metadata": {},
   "outputs": [],
   "source": [
    "#concurrent.futures\n",
    "from concurrent.futures import ProcessPoolExecutor\n",
    "e = ProcessPoolExecutor()\n",
    "\n",
    "def thrower(num):\n",
    "    \"\"\"Dart Throwing code\"\"\"\n",
    "    #Define total number of darts to throw\n",
    "    num_darts = num\n",
    "    #Define a variable to store the number of darts that fall inside the circle\n",
    "    num_darts_circle = 0\n",
    "\n",
    "    #Record the time execution time of the loop that runs the actual situation\n",
    "    start_time = time()\n",
    "\n",
    "    #This loop simulates the dart throwing. For ea. dart find a random position in the unit square for it to fall\n",
    "    #Test if the location of the thrown dart is within the circle by calculating its distance from the center (0.5,0.5)\n",
    "    #Darts that are within 0.5 of the origin are within the circle.\n",
    "    for n in range(num_darts):\n",
    "        x,y = uniform(0,1), uniform(0,1)\n",
    "        if sqrt((x-0.5)**2+(y-0.5)**2) <= 0.5:\n",
    "            num_darts_circle += 1\n",
    "\n",
    "    #record the time after the conclusion of the loop\n",
    "    end_time = time()\n",
    "    #The total time requiered to run the loop is the difference\n",
    "    execution_time = end_time - start_time\n",
    "\n",
    "    #Calc. the approx for Pi\n",
    "    # pi = 4 * Area\n",
    "    pi_approx = 4 * (num_darts_circle / float(num_darts))\n",
    "    darts_per_sec = num_darts/execution_time\n",
    "    \n",
    "    return (num_darts, execution_time, darts_per_sec)\n",
    "\n",
    "\n",
    "trials = np.linspace(10**1,10**7,71)\n",
    "vals=[]\n",
    "for i in range(len(trials)):\n",
    "    vals.append(int(trials[i]))\n",
    "\n",
    "future = e.submit(thrower,vals)\n",
    "results = list(e.map(thrower, vals))\n",
    "\n",
    "#parse results (list of tuples) likely not the most elegant way to do this...\n",
    "f_Darts_thrown=[]\n",
    "f_sim_rate=[]\n",
    "f_execution_time=[]\n",
    "for i in range(len(results)):\n",
    "        f_Darts_thrown.append(results[i][0])\n",
    "        f_sim_rate.append(results[i][2])\n",
    "        f_execution_time.append(results[i][1])\n",
    "\n",
    "e.shutdown()\n",
    "\n"
   ]
  },
  {
   "cell_type": "markdown",
   "metadata": {
    "scrolled": true
   },
   "source": [
    "# #4 pyparallel method\n",
    "\n",
    "\n"
   ]
  },
  {
   "cell_type": "code",
   "execution_count": 7,
   "metadata": {},
   "outputs": [],
   "source": [
    "#cluster launched from notebook file\n",
    "# DO NOT run this in this notebook - open 'cluster launcher' which contains the following lines...\n",
    "# --> !ipython profile create mycluster --parallel\n",
    "# --> !ipcluster start --profile=mycluster --n=4\n"
   ]
  },
  {
   "cell_type": "code",
   "execution_count": 47,
   "metadata": {},
   "outputs": [],
   "source": [
    "#define the function to be called by the cluster\n",
    "\n",
    "def thrower(num):\n",
    "    from random import uniform\n",
    "    from math import sqrt\n",
    "    from time import time\n",
    "    \n",
    "    \"\"\"Dart Throwing code\"\"\"\n",
    "    #Define total number of darts to throw\n",
    "    num_darts = num\n",
    "    #Define a variable to store the number of darts that fall inside the circle\n",
    "    num_darts_circle = 0\n",
    "\n",
    "    #Record the time execution time of the loop that runs the actual situation\n",
    "    start_time = time()\n",
    "\n",
    "    #This loop simulates the dart throwing. For ea. dart find a random position in the unit square for it to fall\n",
    "    #Test if the location of the thrown dart is within the circle by calculating its distance from the center (0.5,0.5)\n",
    "    #Darts that are within 0.5 of the origin are within the circle.\n",
    "    for n in range(num_darts):\n",
    "        x,y = uniform(0,1), uniform(0,1)\n",
    "        if sqrt((x-0.5)**2+(y-0.5)**2) <= 0.5:\n",
    "            num_darts_circle += 1\n",
    "\n",
    "    #record the time after the conclusion of the loop\n",
    "    end_time = time()\n",
    "    #The total time requiered to run the loop is the difference\n",
    "    execution_time = end_time - start_time\n",
    "\n",
    "    #Calc. the approx for Pi\n",
    "    # pi = 4 * Area\n",
    "    pi_approx = 4 * (num_darts_circle / float(num_darts))\n",
    "    darts_per_sec = num_darts/execution_time\n",
    "    \n",
    "    return (num_darts, execution_time, darts_per_sec)"
   ]
  },
  {
   "cell_type": "code",
   "execution_count": 43,
   "metadata": {},
   "outputs": [],
   "source": [
    "#Connect this client to the launched cluster\n",
    "import ipyparallel as ipp\n",
    "c = ipp.Client(profile='mycluster')"
   ]
  },
  {
   "cell_type": "code",
   "execution_count": 44,
   "metadata": {},
   "outputs": [
    {
     "data": {
      "text/plain": [
       "[0, 1, 2, 3]"
      ]
     },
     "execution_count": 44,
     "metadata": {},
     "output_type": "execute_result"
    }
   ],
   "source": [
    "#check if connected to cluster\n",
    "c.ids"
   ]
  },
  {
   "cell_type": "code",
   "execution_count": 45,
   "metadata": {},
   "outputs": [],
   "source": [
    "#create a direct view object that will execute the calculations\n",
    "dview = c[:] # use all engines"
   ]
  },
  {
   "cell_type": "code",
   "execution_count": 48,
   "metadata": {},
   "outputs": [],
   "source": [
    "#Do the thing!!! (This will take some time...)\n",
    "import numpy as np\n",
    "\n",
    "trials = np.linspace(10**1,10**7,71) #create the input array\n",
    "vals=[]\n",
    "for i in range(len(trials)):\n",
    "    vals.append(int(trials[i]))\n",
    "\n",
    "parallel_result = dview.map_sync(thrower, vals)"
   ]
  },
  {
   "cell_type": "code",
   "execution_count": 49,
   "metadata": {},
   "outputs": [],
   "source": [
    "#parse the parallel_results variable for plotting\n",
    "#parse results (list of tuples) likely not the most elegant way to do this...\n",
    "py_Darts_thrown=[]\n",
    "py_sim_rate=[]\n",
    "py_execution_time=[]\n",
    "for i in range(len(parallel_result)):\n",
    "        py_Darts_thrown.append(parallel_result[i][0])\n",
    "        py_sim_rate.append(parallel_result[i][2])\n",
    "        py_execution_time.append(parallel_result[i][1])\n"
   ]
  },
  {
   "cell_type": "code",
   "execution_count": 50,
   "metadata": {},
   "outputs": [
    {
     "name": "stdout",
     "output_type": "stream",
     "text": [
      "2018-03-04 21:36:03.855 [IPClusterStop] Stopping cluster [pid=2654] with [signal=<Signals.SIGINT: 2>]\r\n"
     ]
    }
   ],
   "source": [
    "!ipcluster stop --profile=mycluster\n",
    "#DO NOT REMOVE - Run this to close the runnning cluster"
   ]
  },
  {
   "cell_type": "code",
   "execution_count": 51,
   "metadata": {},
   "outputs": [
    {
     "data": {
      "text/plain": [
       "<matplotlib.legend.Legend at 0x10aaaf940>"
      ]
     },
     "execution_count": 51,
     "metadata": {},
     "output_type": "execute_result"
    },
    {
     "data": {
      "image/png": "[encoded data removed]",
      "text/plain": [
       "<matplotlib.figure.Figure at 0x1087f1a58>"
      ]
     },
     "metadata": {},
     "output_type": "display_data"
    }
   ],
   "source": [
    "#plot results of the different parallelization methods\n",
    "%matplotlib inline\n",
    "import matplotlib.pyplot as plt\n",
    "\n",
    "f, ax = plt.subplots(figsize = (12,10))\n",
    "\n",
    "pt1 = ax.plot(Darts_thrown,Execution_time,'b',label = 'Simple / Threading')\n",
    "pt2 = ax.plot(pl_Darts_thrown,pl_execution_time,'r',label = 'Multiprocessing - Pooling')\n",
    "pt3 = ax.plot(f_Darts_thrown,f_execution_time,'g',label = 'Concurrent Futures')\n",
    "pt4 = ax.plot(py_Darts_thrown,py_execution_time,'k',label = 'pyparallel')\n",
    "ax.set_ylabel('Execution Time (sec)',fontsize = 16)\n",
    "ax.set_yscale('log')\n",
    "ax.set_xscale('log')\n",
    "ax.set_xlabel('Darts Thrown',fontsize = 16)\n",
    "\n",
    "ax2 = ax.twinx()\n",
    "pt5 = ax2.plot(Darts_thrown,sim_rate,'b-.',label = 'Simple / Threading')\n",
    "pt6 = ax2.plot(pl_Darts_thrown,pl_sim_rate,'r-.',label = 'Multiprocessing - Pooling')\n",
    "pt7 = ax.plot(f_Darts_thrown,f_sim_rate,'g-.',label = 'Concurrent Futures')\n",
    "pt8 = ax.plot(py_Darts_thrown,py_sim_rate,'k-.',label = 'pyparallel')\n",
    "ax2.set_yscale('log')\n",
    "ax2.set_ylabel('Simulation Rate (darts/sec) dashed line',fontsize = 16)\n",
    "\n",
    "pt = pt1+pt2+pt3+pt4\n",
    "pts = [l.get_label() for l in pt]\n",
    "ax.legend(pt, pts, loc='center left',frameon = False)"
   ]
  },
  {
   "cell_type": "code",
   "execution_count": null,
   "metadata": {},
   "outputs": [],
   "source": []
  }
 ],
 "metadata": {
  "kernelspec": {
   "display_name": "Python 3",
   "language": "python",
   "name": "python3"
  },
  "language_info": {
   "codemirror_mode": {
    "name": "ipython",
    "version": 3
   },
   "file_extension": ".py",
   "mimetype": "text/x-python",
   "name": "python",
   "nbconvert_exporter": "python",
   "pygments_lexer": "ipython3",
   "version": "3.6.4"
  }
 },
 "nbformat": 4,
 "nbformat_minor": 2
}
