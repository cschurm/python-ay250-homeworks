{
 "cells": [
  {
   "cell_type": "code",
   "execution_count": 13,
   "metadata": {},
   "outputs": [
    {
     "name": "stdout",
     "output_type": "stream",
     "text": [
      "2018-03-04 21:33:31.893 [IPClusterStart] Starting ipcluster with [daemon=False]\n",
      "2018-03-04 21:33:31.893 [IPClusterStart] Creating pid file: /Users/Charlie/.ipython/profile_mycluster/pid/ipcluster.pid\n",
      "2018-03-04 21:33:31.894 [IPClusterStart] Starting Controller with LocalControllerLauncher\n",
      "2018-03-04 21:33:32.903 [IPClusterStart] Starting 4 Engines with LocalEngineSetLauncher\n",
      "2018-03-04 21:34:03.233 [IPClusterStart] Engines appear to have started successfully\n",
      "2018-03-04 21:36:03.856 [IPClusterStart] ERROR | IPython cluster: stopping\n",
      "2018-03-04 21:36:03.857 [IPClusterStart] Stopping Engines...\n",
      "2018-03-04 21:36:06.861 [IPClusterStart] Removing pid file: /Users/Charlie/.ipython/profile_mycluster/pid/ipcluster.pid\n"
     ]
    }
   ],
   "source": [
    "#Run this cell to start a cluster that will execuate the paralel processing\n",
    "\n",
    "!ipython profile create mycluster --parallel\n",
    "!ipcluster start --profile=mycluster --n=4"
   ]
  },
  {
   "cell_type": "code",
   "execution_count": null,
   "metadata": {},
   "outputs": [],
   "source": []
  },
  {
   "cell_type": "code",
   "execution_count": null,
   "metadata": {},
   "outputs": [],
   "source": []
  }
 ],
 "metadata": {
  "kernelspec": {
   "display_name": "Python 3",
   "language": "python",
   "name": "python3"
  },
  "language_info": {
   "codemirror_mode": {
    "name": "ipython",
    "version": 3
   },
   "file_extension": ".py",
   "mimetype": "text/x-python",
   "name": "python",
   "nbconvert_exporter": "python",
   "pygments_lexer": "ipython3",
   "version": "3.6.4"
  }
 },
 "nbformat": 4,
 "nbformat_minor": 2
}
